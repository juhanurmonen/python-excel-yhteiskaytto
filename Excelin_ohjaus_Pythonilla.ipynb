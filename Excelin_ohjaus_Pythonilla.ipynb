{
 "cells": [
  {
   "cell_type": "markdown",
   "id": "746b9c0d",
   "metadata": {},
   "source": [
    "# Excelin ohjaus Pythonilla"
   ]
  },
  {
   "cell_type": "markdown",
   "id": "37aab46b",
   "metadata": {},
   "source": [
    "Exceliä ohjataan Pythonista käsin **xlwings**-kirjastoa käyttäen. Annetaan kirjastolle vakiintuneen tavan mukaisesti lempinimi **xw**."
   ]
  },
  {
   "cell_type": "code",
   "execution_count": 1,
   "id": "b34b53ac",
   "metadata": {},
   "outputs": [],
   "source": [
    "import pandas as pd\n",
    "import xlwings as xw"
   ]
  },
  {
   "cell_type": "markdown",
   "id": "8c9feffb",
   "metadata": {},
   "source": [
    "## Excelin oliomalli"
   ]
  },
  {
   "cell_type": "markdown",
   "id": "5cdd9c61",
   "metadata": {},
   "source": [
    "Excel-ohjelmoinnin aluksi täytyy sisäistää Excelin oliomallin keskeisimmät osat. Excelin oliomallissa oliot ovat hierarkisesti järjestyneet (suluissa xlwings-kirjaston käyttämät nimet):\n",
    "\n",
    "* Hierarkiassa ylimpänä on Applications (**apps**)-kokoelma, joka sisältää yksittäiset avoinna olevat Excel-instanssit.\n",
    "* Excel-instanssi sisältää Workbooks (**books**)-kokoelman, joka sisältää Excel-instanssin avoimet työkirjat.\n",
    "* Työkirja sisältää Worksheets (**sheets**)-kokoelman, joka sisältää työkirjan taulukkovälilehdet.\n",
    "* Taulukkovälilehti sisältää solualueita (**range**)."
   ]
  },
  {
   "cell_type": "markdown",
   "id": "c9f7d9f8",
   "metadata": {},
   "source": [
    "## Uuden Excel-instanssin luominen"
   ]
  },
  {
   "cell_type": "markdown",
   "id": "5f501544",
   "metadata": {},
   "source": [
    "Uuden Excel-instanssin voi luoda xlwingsin App-luokan oliona:"
   ]
  },
  {
   "cell_type": "code",
   "execution_count": 2,
   "id": "725d07dc",
   "metadata": {},
   "outputs": [],
   "source": [
    "# Luodaan uusi Excel-instanssi\n",
    "app = xw.App(visible=False)"
   ]
  },
  {
   "cell_type": "markdown",
   "id": "1292fcbf",
   "metadata": {},
   "source": [
    "Jos instanssi on näkyvillä ja käyttäjä menee vahingossa sorkkimaan sitä kesken tietojen kirjoituksen, niin ohjelma voi kaatua virheilmoitukseen. Excel-instanssi kannattaa tämän vuoksi luoda näkymättömänä (visible=False) ja tuoda se näkyviin vasta sen jälkeen, kun kaikki tiedot on kirjoitettu. Kokeilu- ja testausvaiheessa Excel-instanssi kannattaa kuitenkin pitää näkyvänä (visible=True), jotta komentojen vaikutuksia pystyy seuraamaan."
   ]
  },
  {
   "cell_type": "markdown",
   "id": "85ec8d24",
   "metadata": {},
   "source": [
    "## Työkirjat"
   ]
  },
  {
   "cell_type": "markdown",
   "id": "08f647d8",
   "metadata": {},
   "source": [
    "Uuden Excel-instanssin myötä syntyy työkirja. Seuraava komento nimeää työkirjan wb1-nimiseksi. Tämä ei tarkoita tallennusnimeä, vaan nimeä, jolla koodissa työkirjaan pystyy viittaamaan:"
   ]
  },
  {
   "cell_type": "code",
   "execution_count": 3,
   "id": "9a39ed8a",
   "metadata": {},
   "outputs": [],
   "source": [
    "# Excel-instanssin myötä syntyi myös työkirja, jolle annetaan tässä nimi wb1\n",
    "wb1 = app.books[0]"
   ]
  },
  {
   "cell_type": "markdown",
   "id": "67c3b869",
   "metadata": {},
   "source": [
    "Täysin uuden työkirjan saa aikaiseksi luomalla uuden Book-luokan olion:"
   ]
  },
  {
   "cell_type": "code",
   "execution_count": 4,
   "id": "b513d272",
   "metadata": {},
   "outputs": [],
   "source": [
    "# Luodaan toinen työkirja\n",
    "wb2 = xw.Book()"
   ]
  },
  {
   "cell_type": "markdown",
   "id": "825147dd",
   "metadata": {},
   "source": [
    "## Taulukkovälilehdet"
   ]
  },
  {
   "cell_type": "markdown",
   "id": "0aeed4b9",
   "metadata": {},
   "source": [
    "Työkirjan taulukkovälilehtiin pystyy viittaamaan sheets-kokoelman kautta. Tässä käytetään Pythonista tuttua indeksointia, joka alkaa nollasta:"
   ]
  },
  {
   "cell_type": "code",
   "execution_count": 5,
   "id": "9bbb0964",
   "metadata": {},
   "outputs": [],
   "source": [
    "# Näillä nimillä voidaan viitata työkirjojen taulukkovälilehtiin\n",
    "wb1_ws1 = wb1.sheets[0]\n",
    "wb2_ws1 = wb2.sheets[0]"
   ]
  },
  {
   "cell_type": "markdown",
   "id": "f457ef50",
   "metadata": {},
   "source": [
    "Edellä olevan perusteella koodissa voi myöhemmin viitata taulukkovälilehtiin nimillä wb1_ws1 ja wb2_ws1. Nämä eivät kuitenkaan ole Excelissä taulukkovälilehtien nimiä, vaan nimiä, joilla koodissa viitataan taulukkovälilehtiin.\n",
    "\n",
    "Täysin uuden taulukkovälilehden voi luoda **sheets**-kokoelman **add**-funktiolla:"
   ]
  },
  {
   "cell_type": "code",
   "execution_count": 6,
   "id": "84100467",
   "metadata": {},
   "outputs": [],
   "source": [
    "# Lisätään uusi taulukkovälilehti\n",
    "wb2_ws2 = wb2.sheets.add(name='toinen', after=wb2.sheets.count)"
   ]
  },
  {
   "cell_type": "markdown",
   "id": "bb04ac33",
   "metadata": {},
   "source": [
    "wb2_ws2 on nimi, jolla välilehteen voi Python-koodissa viitata ja name-parametrin arvo ’toinen’ on taulukkovälilehden nimi Excelissä. Yllä taulukkovälilehti lisätään after-parametrin arvon ansiosta oikealle viimeiseksi taulukkovälilehdeksi."
   ]
  },
  {
   "cell_type": "markdown",
   "id": "dfc6ca2d",
   "metadata": {},
   "source": [
    "## Solut"
   ]
  },
  {
   "cell_type": "markdown",
   "id": "e2583580",
   "metadata": {},
   "source": [
    "Tiedon kirjoittaminen soluun onnistuu **range**-kokoelman **value**-ominaisuuden avulla:"
   ]
  },
  {
   "cell_type": "code",
   "execution_count": 7,
   "id": "16a788e4",
   "metadata": {},
   "outputs": [],
   "source": [
    "# Kirjoitetaan soluihin\n",
    "wb1_ws1.range('B3').value = 'x'\n",
    "wb1_ws1.range('C3').value = 'y'"
   ]
  },
  {
   "cell_type": "markdown",
   "id": "5c600308",
   "metadata": {},
   "source": [
    "Excel-tyylinen soluviittaus (esim. ’C3’) ei kaikissa tapauksissa sovi tilanteeseen. Esimerkiksi seuraavassa for-silmukassa täytyy käyttää toisenlaista viittaustapaa (rivin ja sarakkeen numero sulkujen sisällä):"
   ]
  },
  {
   "cell_type": "code",
   "execution_count": 8,
   "id": "1d8ea9cb",
   "metadata": {},
   "outputs": [],
   "source": [
    "# Kirjoitetaan soluihin\n",
    "for i in range(10):\n",
    "    wb1_ws1.range((i+4, 2)).value = i\n",
    "    wb1_ws1.range((i+4, 3)).value = f'=exp(B{i+4})'"
   ]
  },
  {
   "cell_type": "markdown",
   "id": "1495833f",
   "metadata": {},
   "source": [
    "Katso esimerkkejä erilaisista viittaustavoista solualueeseen: https://docs.xlwings.org/en/latest/api/range.html"
   ]
  },
  {
   "cell_type": "markdown",
   "id": "b80090de",
   "metadata": {},
   "source": [
    "Myös solualueen lukeminen onnistuu value-ominaisuuden avulla (**expand**-funktio laajentaa valinnan solua B3 ympäröiviin soluihin, jotka eivät ole tyhjiä):"
   ]
  },
  {
   "cell_type": "code",
   "execution_count": 9,
   "id": "30ad27f5",
   "metadata": {},
   "outputs": [
    {
     "data": {
      "text/plain": [
       "[['x', 'y'],\n",
       " [0.0, 1.0],\n",
       " [1.0, 2.718281828459045],\n",
       " [2.0, 7.38905609893065],\n",
       " [3.0, 20.085536923187668],\n",
       " [4.0, 54.598150033144236],\n",
       " [5.0, 148.4131591025766],\n",
       " [6.0, 403.4287934927351],\n",
       " [7.0, 1096.6331584284585],\n",
       " [8.0, 2980.9579870417283],\n",
       " [9.0, 8103.083927575384]]"
      ]
     },
     "execution_count": 9,
     "metadata": {},
     "output_type": "execute_result"
    }
   ],
   "source": [
    "# Luetaan data Excelistä Pythoniin\n",
    "data = wb1_ws1.range('B3').expand().value\n",
    "data"
   ]
  },
  {
   "cell_type": "markdown",
   "id": "53c2a110",
   "metadata": {},
   "source": [
    "Jos halutaan lukea solualue tietokehykseksi, voidaan käyttää **options**-lisäasetuksia:"
   ]
  },
  {
   "cell_type": "code",
   "execution_count": 10,
   "id": "4c176782",
   "metadata": {
    "scrolled": true
   },
   "outputs": [
    {
     "data": {
      "text/html": [
       "<div>\n",
       "<style scoped>\n",
       "    .dataframe tbody tr th:only-of-type {\n",
       "        vertical-align: middle;\n",
       "    }\n",
       "\n",
       "    .dataframe tbody tr th {\n",
       "        vertical-align: top;\n",
       "    }\n",
       "\n",
       "    .dataframe thead th {\n",
       "        text-align: right;\n",
       "    }\n",
       "</style>\n",
       "<table border=\"1\" class=\"dataframe\">\n",
       "  <thead>\n",
       "    <tr style=\"text-align: right;\">\n",
       "      <th></th>\n",
       "      <th>x</th>\n",
       "      <th>y</th>\n",
       "    </tr>\n",
       "  </thead>\n",
       "  <tbody>\n",
       "    <tr>\n",
       "      <th>0</th>\n",
       "      <td>0.0</td>\n",
       "      <td>1.000000</td>\n",
       "    </tr>\n",
       "    <tr>\n",
       "      <th>1</th>\n",
       "      <td>1.0</td>\n",
       "      <td>2.718282</td>\n",
       "    </tr>\n",
       "    <tr>\n",
       "      <th>2</th>\n",
       "      <td>2.0</td>\n",
       "      <td>7.389056</td>\n",
       "    </tr>\n",
       "    <tr>\n",
       "      <th>3</th>\n",
       "      <td>3.0</td>\n",
       "      <td>20.085537</td>\n",
       "    </tr>\n",
       "    <tr>\n",
       "      <th>4</th>\n",
       "      <td>4.0</td>\n",
       "      <td>54.598150</td>\n",
       "    </tr>\n",
       "    <tr>\n",
       "      <th>5</th>\n",
       "      <td>5.0</td>\n",
       "      <td>148.413159</td>\n",
       "    </tr>\n",
       "    <tr>\n",
       "      <th>6</th>\n",
       "      <td>6.0</td>\n",
       "      <td>403.428793</td>\n",
       "    </tr>\n",
       "    <tr>\n",
       "      <th>7</th>\n",
       "      <td>7.0</td>\n",
       "      <td>1096.633158</td>\n",
       "    </tr>\n",
       "    <tr>\n",
       "      <th>8</th>\n",
       "      <td>8.0</td>\n",
       "      <td>2980.957987</td>\n",
       "    </tr>\n",
       "    <tr>\n",
       "      <th>9</th>\n",
       "      <td>9.0</td>\n",
       "      <td>8103.083928</td>\n",
       "    </tr>\n",
       "  </tbody>\n",
       "</table>\n",
       "</div>"
      ],
      "text/plain": [
       "     x            y\n",
       "0  0.0     1.000000\n",
       "1  1.0     2.718282\n",
       "2  2.0     7.389056\n",
       "3  3.0    20.085537\n",
       "4  4.0    54.598150\n",
       "5  5.0   148.413159\n",
       "6  6.0   403.428793\n",
       "7  7.0  1096.633158\n",
       "8  8.0  2980.957987\n",
       "9  9.0  8103.083928"
      ]
     },
     "execution_count": 10,
     "metadata": {},
     "output_type": "execute_result"
    }
   ],
   "source": [
    "# Luetaan data pandas-dataframeen\n",
    "# Oletusarvona vasemmanpuoleisesta sarakkeesta tulee indeksi\n",
    "df = wb1_ws1.range('B3').expand().options(pd.DataFrame, index=False).value\n",
    "df"
   ]
  },
  {
   "cell_type": "markdown",
   "id": "79df7c33",
   "metadata": {},
   "source": [
    "Lisätietoa lisäasetuksista https://docs.xlwings.org/en/latest/converters.html"
   ]
  },
  {
   "cell_type": "markdown",
   "id": "5e2cde53",
   "metadata": {},
   "source": [
    "## Tallennus ja Excel-instannin sulkeminen"
   ]
  },
  {
   "cell_type": "markdown",
   "id": "e40e7e1b",
   "metadata": {},
   "source": [
    "Työkirjan voin tallentaa **save**-funktiolla:"
   ]
  },
  {
   "cell_type": "code",
   "execution_count": 11,
   "id": "b1b19ee3",
   "metadata": {},
   "outputs": [],
   "source": [
    "# Työkirjan tallennus\n",
    "wb1.save('pyex/output/excel1.xlsx')"
   ]
  },
  {
   "cell_type": "markdown",
   "id": "17ec85b7",
   "metadata": {},
   "source": [
    "Sen jälkeen, kun kaikki tiedot on kirjoitettu niin Excel-instanssin voi tuoda näkyville:"
   ]
  },
  {
   "cell_type": "code",
   "execution_count": 12,
   "id": "0e193620",
   "metadata": {},
   "outputs": [],
   "source": [
    "app.visible = True"
   ]
  },
  {
   "cell_type": "markdown",
   "id": "cdc47e9c",
   "metadata": {},
   "source": [
    "Jos Excel-instanssia ei ole tarvetta jättää auki, niin sen voi sulkea komennolla"
   ]
  },
  {
   "cell_type": "code",
   "execution_count": 13,
   "id": "17d81e39",
   "metadata": {},
   "outputs": [],
   "source": [
    "# Excel-instanssin sulkeminen\n",
    "app.quit()"
   ]
  },
  {
   "cell_type": "markdown",
   "id": "8707c5c8",
   "metadata": {},
   "source": [
    "Jos haluat sulkea kaikki avoimet Excelit ilman tallennusta, niin voit käyttää for-silmukkaa:"
   ]
  },
  {
   "cell_type": "code",
   "execution_count": 14,
   "id": "554d1527",
   "metadata": {},
   "outputs": [],
   "source": [
    "# Jos haluat sulkea ilman tallennusta kaikki avoinna olevat Excelit (myös piilotetut), niin voit käyttää for-silmukkaa:\n",
    "# Näin pääsee kerralla eroon kaikista Excel-instansseista.\n",
    "\n",
    "#for app in xw.apps:\n",
    "#    app.quit()"
   ]
  },
  {
   "cell_type": "markdown",
   "id": "6510a8ab",
   "metadata": {},
   "source": [
    "Lisätietoa käytetyistä ja muista mahdollisista toiminnoista löydät xlwingsin Python **API**sta (API=ohjelmointirajapinta): https://docs.xlwings.org/en/latest/api/index.html."
   ]
  },
  {
   "cell_type": "markdown",
   "id": "ede50970",
   "metadata": {},
   "source": [
    "## load ja view"
   ]
  },
  {
   "cell_type": "markdown",
   "id": "e00e0a00",
   "metadata": {},
   "source": [
    "Xlwingsin yllättävin ominaisuus on **load**- ja **view**-funktioiden mukanaan tuoma interaktiivisuus:"
   ]
  },
  {
   "cell_type": "markdown",
   "id": "d76c23e7",
   "metadata": {},
   "source": [
    "Jos Excelin aktiivisella taulukkovälilehdellä on data, jonka sisältä on valittu yksi solu, niin **xw.load()** lataa aineiston pandaksen tietokehykseen. Jos valittuna on useampia soluja, niin ladatuksi tulee valitun solualueen sisältämä aineisto. Tutustutaan tähän tarkemmin seuraavassa."
   ]
  },
  {
   "cell_type": "markdown",
   "id": "666a0892-6576-4c4f-b6c2-dbf81ad2e776",
   "metadata": {},
   "source": [
    "### Datan lataaminen Excelistä"
   ]
  },
  {
   "cell_type": "markdown",
   "id": "b136cf4c-504f-4daf-808d-c8a08d60c3de",
   "metadata": {},
   "source": [
    "Jos data on auki Excelin aktiivisella taulukkovälilehdellä ja datan sisältä on täsmälleen yksi solu valittuna, niin datan lataaminen dataframeen on helppoa."
   ]
  },
  {
   "cell_type": "markdown",
   "id": "759d2c16-31ac-4d56-adf4-de232f3d466d",
   "metadata": {},
   "source": [
    "**Tärkeää!** Tämä toimii vain jos Excelissä on sopiva data aktiivisena!"
   ]
  },
  {
   "cell_type": "markdown",
   "id": "8663833f-5c87-4c20-aa73-9566d7d9aa21",
   "metadata": {},
   "source": [
    "Ennen seuraavien koodisolujen suorittamista oletetaan, että käyttäjä on avannut materiaalipaketin data/aineisto.xlsx-tiedoston."
   ]
  },
  {
   "cell_type": "code",
   "execution_count": 16,
   "id": "102a1647-3a8d-4b17-8358-9f7d08678f17",
   "metadata": {},
   "outputs": [
    {
     "data": {
      "text/html": [
       "<div>\n",
       "<style scoped>\n",
       "    .dataframe tbody tr th:only-of-type {\n",
       "        vertical-align: middle;\n",
       "    }\n",
       "\n",
       "    .dataframe tbody tr th {\n",
       "        vertical-align: top;\n",
       "    }\n",
       "\n",
       "    .dataframe thead th {\n",
       "        text-align: right;\n",
       "    }\n",
       "</style>\n",
       "<table border=\"1\" class=\"dataframe\">\n",
       "  <thead>\n",
       "    <tr style=\"text-align: right;\">\n",
       "      <th></th>\n",
       "      <th>Myymälän sijainti on hyvä</th>\n",
       "      <th>Aukioloajat ovat sopivat</th>\n",
       "      <th>Myymälä on hyvin johdettu</th>\n",
       "      <th>Helppo tavoittaa puhelimella</th>\n",
       "      <th>Hyödylliset nettisivut</th>\n",
       "      <th>Työntekijät ovat ystävällisiä</th>\n",
       "      <th>Työntekijät ovat avuliaita</th>\n",
       "      <th>Työntekijät ovat asiantuntevia</th>\n",
       "      <th>Hinnat ovat kilpailukykyiset</th>\n",
       "      <th>Hyvä tuotevalikoima</th>\n",
       "      <th>Pidän TV-mainoksistanne</th>\n",
       "      <th>Tuotteiden laatu on hyvä</th>\n",
       "      <th>Yleisesti ottaen tyytyväinen</th>\n",
       "      <th>Suosittelisin tuttavilleni</th>\n",
       "    </tr>\n",
       "    <tr>\n",
       "      <th>Numero</th>\n",
       "      <th></th>\n",
       "      <th></th>\n",
       "      <th></th>\n",
       "      <th></th>\n",
       "      <th></th>\n",
       "      <th></th>\n",
       "      <th></th>\n",
       "      <th></th>\n",
       "      <th></th>\n",
       "      <th></th>\n",
       "      <th></th>\n",
       "      <th></th>\n",
       "      <th></th>\n",
       "      <th></th>\n",
       "    </tr>\n",
       "  </thead>\n",
       "  <tbody>\n",
       "    <tr>\n",
       "      <th>1.0</th>\n",
       "      <td>2.0</td>\n",
       "      <td>5.0</td>\n",
       "      <td>1.0</td>\n",
       "      <td>1.0</td>\n",
       "      <td>4.0</td>\n",
       "      <td>2.0</td>\n",
       "      <td>4.0</td>\n",
       "      <td>3.0</td>\n",
       "      <td>3.0</td>\n",
       "      <td>2.0</td>\n",
       "      <td>2.0</td>\n",
       "      <td>5.0</td>\n",
       "      <td>2.0</td>\n",
       "      <td>3.0</td>\n",
       "    </tr>\n",
       "    <tr>\n",
       "      <th>2.0</th>\n",
       "      <td>2.0</td>\n",
       "      <td>2.0</td>\n",
       "      <td>5.0</td>\n",
       "      <td>5.0</td>\n",
       "      <td>4.0</td>\n",
       "      <td>2.0</td>\n",
       "      <td>1.0</td>\n",
       "      <td>5.0</td>\n",
       "      <td>5.0</td>\n",
       "      <td>2.0</td>\n",
       "      <td>3.0</td>\n",
       "      <td>4.0</td>\n",
       "      <td>2.0</td>\n",
       "      <td>5.0</td>\n",
       "    </tr>\n",
       "    <tr>\n",
       "      <th>3.0</th>\n",
       "      <td>2.0</td>\n",
       "      <td>4.0</td>\n",
       "      <td>3.0</td>\n",
       "      <td>3.0</td>\n",
       "      <td>1.0</td>\n",
       "      <td>1.0</td>\n",
       "      <td>4.0</td>\n",
       "      <td>4.0</td>\n",
       "      <td>4.0</td>\n",
       "      <td>2.0</td>\n",
       "      <td>2.0</td>\n",
       "      <td>2.0</td>\n",
       "      <td>2.0</td>\n",
       "      <td>4.0</td>\n",
       "    </tr>\n",
       "    <tr>\n",
       "      <th>4.0</th>\n",
       "      <td>2.0</td>\n",
       "      <td>4.0</td>\n",
       "      <td>5.0</td>\n",
       "      <td>4.0</td>\n",
       "      <td>5.0</td>\n",
       "      <td>3.0</td>\n",
       "      <td>2.0</td>\n",
       "      <td>5.0</td>\n",
       "      <td>4.0</td>\n",
       "      <td>4.0</td>\n",
       "      <td>1.0</td>\n",
       "      <td>5.0</td>\n",
       "      <td>4.0</td>\n",
       "      <td>4.0</td>\n",
       "    </tr>\n",
       "    <tr>\n",
       "      <th>5.0</th>\n",
       "      <td>3.0</td>\n",
       "      <td>4.0</td>\n",
       "      <td>4.0</td>\n",
       "      <td>4.0</td>\n",
       "      <td>5.0</td>\n",
       "      <td>1.0</td>\n",
       "      <td>4.0</td>\n",
       "      <td>1.0</td>\n",
       "      <td>4.0</td>\n",
       "      <td>1.0</td>\n",
       "      <td>2.0</td>\n",
       "      <td>1.0</td>\n",
       "      <td>1.0</td>\n",
       "      <td>4.0</td>\n",
       "    </tr>\n",
       "    <tr>\n",
       "      <th>...</th>\n",
       "      <td>...</td>\n",
       "      <td>...</td>\n",
       "      <td>...</td>\n",
       "      <td>...</td>\n",
       "      <td>...</td>\n",
       "      <td>...</td>\n",
       "      <td>...</td>\n",
       "      <td>...</td>\n",
       "      <td>...</td>\n",
       "      <td>...</td>\n",
       "      <td>...</td>\n",
       "      <td>...</td>\n",
       "      <td>...</td>\n",
       "      <td>...</td>\n",
       "    </tr>\n",
       "    <tr>\n",
       "      <th>67.0</th>\n",
       "      <td>1.0</td>\n",
       "      <td>3.0</td>\n",
       "      <td>5.0</td>\n",
       "      <td>1.0</td>\n",
       "      <td>2.0</td>\n",
       "      <td>2.0</td>\n",
       "      <td>4.0</td>\n",
       "      <td>1.0</td>\n",
       "      <td>3.0</td>\n",
       "      <td>4.0</td>\n",
       "      <td>5.0</td>\n",
       "      <td>5.0</td>\n",
       "      <td>4.0</td>\n",
       "      <td>3.0</td>\n",
       "    </tr>\n",
       "    <tr>\n",
       "      <th>68.0</th>\n",
       "      <td>3.0</td>\n",
       "      <td>4.0</td>\n",
       "      <td>3.0</td>\n",
       "      <td>5.0</td>\n",
       "      <td>5.0</td>\n",
       "      <td>4.0</td>\n",
       "      <td>4.0</td>\n",
       "      <td>3.0</td>\n",
       "      <td>2.0</td>\n",
       "      <td>4.0</td>\n",
       "      <td>2.0</td>\n",
       "      <td>2.0</td>\n",
       "      <td>4.0</td>\n",
       "      <td>2.0</td>\n",
       "    </tr>\n",
       "    <tr>\n",
       "      <th>69.0</th>\n",
       "      <td>1.0</td>\n",
       "      <td>3.0</td>\n",
       "      <td>5.0</td>\n",
       "      <td>4.0</td>\n",
       "      <td>5.0</td>\n",
       "      <td>5.0</td>\n",
       "      <td>5.0</td>\n",
       "      <td>1.0</td>\n",
       "      <td>1.0</td>\n",
       "      <td>5.0</td>\n",
       "      <td>1.0</td>\n",
       "      <td>2.0</td>\n",
       "      <td>5.0</td>\n",
       "      <td>1.0</td>\n",
       "    </tr>\n",
       "    <tr>\n",
       "      <th>70.0</th>\n",
       "      <td>1.0</td>\n",
       "      <td>1.0</td>\n",
       "      <td>2.0</td>\n",
       "      <td>5.0</td>\n",
       "      <td>5.0</td>\n",
       "      <td>5.0</td>\n",
       "      <td>2.0</td>\n",
       "      <td>1.0</td>\n",
       "      <td>4.0</td>\n",
       "      <td>1.0</td>\n",
       "      <td>4.0</td>\n",
       "      <td>3.0</td>\n",
       "      <td>1.0</td>\n",
       "      <td>2.0</td>\n",
       "    </tr>\n",
       "    <tr>\n",
       "      <th>71.0</th>\n",
       "      <td>2.0</td>\n",
       "      <td>3.0</td>\n",
       "      <td>4.0</td>\n",
       "      <td>3.0</td>\n",
       "      <td>2.0</td>\n",
       "      <td>5.0</td>\n",
       "      <td>3.0</td>\n",
       "      <td>3.0</td>\n",
       "      <td>2.0</td>\n",
       "      <td>2.0</td>\n",
       "      <td>5.0</td>\n",
       "      <td>2.0</td>\n",
       "      <td>1.0</td>\n",
       "      <td>2.0</td>\n",
       "    </tr>\n",
       "  </tbody>\n",
       "</table>\n",
       "<p>71 rows × 14 columns</p>\n",
       "</div>"
      ],
      "text/plain": [
       "        Myymälän sijainti on hyvä  Aukioloajat ovat sopivat  \\\n",
       "Numero                                                        \n",
       "1.0                           2.0                       5.0   \n",
       "2.0                           2.0                       2.0   \n",
       "3.0                           2.0                       4.0   \n",
       "4.0                           2.0                       4.0   \n",
       "5.0                           3.0                       4.0   \n",
       "...                           ...                       ...   \n",
       "67.0                          1.0                       3.0   \n",
       "68.0                          3.0                       4.0   \n",
       "69.0                          1.0                       3.0   \n",
       "70.0                          1.0                       1.0   \n",
       "71.0                          2.0                       3.0   \n",
       "\n",
       "        Myymälä on hyvin johdettu  Helppo tavoittaa puhelimella  \\\n",
       "Numero                                                            \n",
       "1.0                           1.0                           1.0   \n",
       "2.0                           5.0                           5.0   \n",
       "3.0                           3.0                           3.0   \n",
       "4.0                           5.0                           4.0   \n",
       "5.0                           4.0                           4.0   \n",
       "...                           ...                           ...   \n",
       "67.0                          5.0                           1.0   \n",
       "68.0                          3.0                           5.0   \n",
       "69.0                          5.0                           4.0   \n",
       "70.0                          2.0                           5.0   \n",
       "71.0                          4.0                           3.0   \n",
       "\n",
       "        Hyödylliset nettisivut  Työntekijät ovat ystävällisiä  \\\n",
       "Numero                                                          \n",
       "1.0                        4.0                            2.0   \n",
       "2.0                        4.0                            2.0   \n",
       "3.0                        1.0                            1.0   \n",
       "4.0                        5.0                            3.0   \n",
       "5.0                        5.0                            1.0   \n",
       "...                        ...                            ...   \n",
       "67.0                       2.0                            2.0   \n",
       "68.0                       5.0                            4.0   \n",
       "69.0                       5.0                            5.0   \n",
       "70.0                       5.0                            5.0   \n",
       "71.0                       2.0                            5.0   \n",
       "\n",
       "        Työntekijät ovat avuliaita  Työntekijät ovat asiantuntevia  \\\n",
       "Numero                                                               \n",
       "1.0                            4.0                             3.0   \n",
       "2.0                            1.0                             5.0   \n",
       "3.0                            4.0                             4.0   \n",
       "4.0                            2.0                             5.0   \n",
       "5.0                            4.0                             1.0   \n",
       "...                            ...                             ...   \n",
       "67.0                           4.0                             1.0   \n",
       "68.0                           4.0                             3.0   \n",
       "69.0                           5.0                             1.0   \n",
       "70.0                           2.0                             1.0   \n",
       "71.0                           3.0                             3.0   \n",
       "\n",
       "        Hinnat ovat kilpailukykyiset  Hyvä tuotevalikoima  \\\n",
       "Numero                                                      \n",
       "1.0                              3.0                  2.0   \n",
       "2.0                              5.0                  2.0   \n",
       "3.0                              4.0                  2.0   \n",
       "4.0                              4.0                  4.0   \n",
       "5.0                              4.0                  1.0   \n",
       "...                              ...                  ...   \n",
       "67.0                             3.0                  4.0   \n",
       "68.0                             2.0                  4.0   \n",
       "69.0                             1.0                  5.0   \n",
       "70.0                             4.0                  1.0   \n",
       "71.0                             2.0                  2.0   \n",
       "\n",
       "        Pidän TV-mainoksistanne  Tuotteiden laatu on hyvä  \\\n",
       "Numero                                                      \n",
       "1.0                         2.0                       5.0   \n",
       "2.0                         3.0                       4.0   \n",
       "3.0                         2.0                       2.0   \n",
       "4.0                         1.0                       5.0   \n",
       "5.0                         2.0                       1.0   \n",
       "...                         ...                       ...   \n",
       "67.0                        5.0                       5.0   \n",
       "68.0                        2.0                       2.0   \n",
       "69.0                        1.0                       2.0   \n",
       "70.0                        4.0                       3.0   \n",
       "71.0                        5.0                       2.0   \n",
       "\n",
       "        Yleisesti ottaen tyytyväinen  Suosittelisin tuttavilleni  \n",
       "Numero                                                            \n",
       "1.0                              2.0                         3.0  \n",
       "2.0                              2.0                         5.0  \n",
       "3.0                              2.0                         4.0  \n",
       "4.0                              4.0                         4.0  \n",
       "5.0                              1.0                         4.0  \n",
       "...                              ...                         ...  \n",
       "67.0                             4.0                         3.0  \n",
       "68.0                             4.0                         2.0  \n",
       "69.0                             5.0                         1.0  \n",
       "70.0                             1.0                         2.0  \n",
       "71.0                             1.0                         2.0  \n",
       "\n",
       "[71 rows x 14 columns]"
      ]
     },
     "execution_count": 16,
     "metadata": {},
     "output_type": "execute_result"
    }
   ],
   "source": [
    "## Seuraavissa oletetaan, että käyttäjällä on Excel auki ja sopiva tiedosto avattuna sekä aineistosta yksi solu valittuna.\n",
    "\n",
    "df = xw.load()\n",
    "df"
   ]
  },
  {
   "cell_type": "markdown",
   "id": "99ab481c-2f0f-410b-92d1-9360d069b70b",
   "metadata": {},
   "source": [
    "### Tulokset Exceliin"
   ]
  },
  {
   "cell_type": "markdown",
   "id": "f82b7bf1",
   "metadata": {},
   "source": [
    "**xw.view()** puolestaan vie tulokset uuteen Excel-työkirjaan."
   ]
  },
  {
   "cell_type": "code",
   "execution_count": 17,
   "id": "7bb39b6f-5b74-46c4-af08-8eac7736c56f",
   "metadata": {},
   "outputs": [],
   "source": [
    "# T vaihtaa taulukon rivit ja sarakkeet päittäin\n",
    "tunnusluvut = df.describe().T\n",
    "\n",
    "# Suomenkieliset nimet tilastollisille tunnusluvuille\n",
    "tunnusluvut.columns = ['Lukumäärä', 'Keskiarvo', 'Keskihajonta', 'Pienin', \n",
    "                     'Alaneljännes', 'Mediaani', 'Yläneljännes', 'Suurin']\n",
    "\n",
    "xw.view(tunnusluvut, table=False)"
   ]
  },
  {
   "cell_type": "markdown",
   "id": "c0f16726-c509-474d-910f-39a28be7c25b",
   "metadata": {},
   "source": [
    "### Tulosten muotoilu"
   ]
  },
  {
   "cell_type": "markdown",
   "id": "839ec89d-3675-437f-a602-4bdd62fe0eeb",
   "metadata": {},
   "source": [
    "Xlwings APIn (API=Application Programming Interface) kautta voi ohjelmoida Exceliä. Opettele lukemaan APIn dokumentaatiota: https://docs.xlwings.org/en/latest/api/index.html\n",
    "\n",
    "Kaikkia Excelin toimintoja (mm. solujen reunaviivat ja solun sisällön tasaus) ei ole vielä toteutettu Xlwings APIin. Puuttuviin toimintoihin pääsee käsiksi Windowsissa pywin32:n kautta ja Macissa appscriptin kautta (näiden osalta siis erilainen koodi Windowsiin ja Maciin).\n",
    "\n",
    "Värikoodit voit antaa RGB-muodossa (red, green, blue). Värikoodeja löydät esimerkiksi sivulta https://www.rapidtables.com/web/color/RGB_Color.html"
   ]
  },
  {
   "cell_type": "markdown",
   "id": "2aa62181-d1b5-4c59-b611-1b4968dbfd68",
   "metadata": {},
   "source": [
    "Huomaa seuraavassa myös, että nimettyihin Excelin taulukkovälilehtiin voi viitata. Lukumuotoiluina käytetään Excelin lukumuotoiluja."
   ]
  },
  {
   "cell_type": "code",
   "execution_count": 18,
   "id": "53147240-ff4d-4cc7-96fb-143b75e0dc9a",
   "metadata": {},
   "outputs": [],
   "source": [
    "# tunnusluvut-taulukon korkeus ja leveys soluina\n",
    "korkeus = tunnusluvut.shape[0]+1\n",
    "leveys = tunnusluvut.shape[1]+1\n",
    "\n",
    "# Nimetään Excelin taulukkovälilehti\n",
    "xw.sheets[0].name = 'Tunnusluvut'\n",
    "\n",
    "# Asetetaan lukumuotoilu\n",
    "xw.sheets('Tunnusluvut').range((2, 3), (korkeus, leveys)).number_format = '0,00'\n",
    "\n",
    "# Muotoillaan otsikkorivi\n",
    "rng = xw.sheets('Tunnusluvut').range((1, 1), (1, leveys))\n",
    "rng.font.bold = True\n",
    "rng.color = (204, 229, 251)\n",
    "\n",
    "# Sovitetaan sarakkeiden leveydet tilanteeseen sopiviksi\n",
    "xw.sheets('Tunnusluvut').used_range.autofit()\n",
    "\n",
    "# Tasaus oikeaan reunaan, toimiin vain Windowsissa\n",
    "rng.api.HorizontalAlignment = -4152\n",
    "\n",
    "# Reunaaviiva alapuolelle, toimii vain Windowsissa\n",
    "rng.api.Borders(9).Weight = 2"
   ]
  },
  {
   "cell_type": "markdown",
   "id": "786e550d-ee36-459f-86da-b4fbf7535ef6",
   "metadata": {},
   "source": [
    "MacOS reunaviivat katso: https://github.com/xlwings/xlwings/issues/440\n",
    "\n",
    "MacOS tasaus katso: https://github.com/xlwings/xlwings/issues/1937\n",
    "\n",
    "Windowsia varten löydät muotoiluun liittyviä vakioita osoitteesta https://github.com/xlwings/xlwings/blob/main/xlwings/constants.py. Tässä muutama poiminta kyseisestä osoitteesta:\n",
    "\n",
    "class BorderWeight:\n",
    "\n",
    "    xlHairline = 1  # from enum XlBorderWeight\n",
    "    xlMedium = -4138  # from enum XlBorderWeight\n",
    "    xlThick = 4  # from enum XlBorderWeight\n",
    "    xlThin = 2  # from enum XlBorderWeight\n",
    "\n",
    "class BordersIndex:\n",
    "\n",
    "    xlDiagonalDown = 5  # from enum XlBordersIndex\n",
    "    xlDiagonalUp = 6  # from enum XlBordersIndex\n",
    "    xlEdgeBottom = 9  # from enum XlBordersIndex\n",
    "    xlEdgeLeft = 7  # from enum XlBordersIndex\n",
    "    xlEdgeRight = 10  # from enum XlBordersIndex\n",
    "    xlEdgeTop = 8  # from enum XlBordersIndex\n",
    "    xlInsideHorizontal = 12  # from enum XlBordersIndex\n",
    "    xlInsideVertical = 11  # from enum XlBordersIndex\n",
    "    \n",
    "class HAlign:\n",
    "\n",
    "    xlHAlignCenter = -4108  # from enum XlHAlign\n",
    "    xlHAlignCenterAcrossSelection = 7  # from enum XlHAlign\n",
    "    xlHAlignDistributed = -4117  # from enum XlHAlign\n",
    "    xlHAlignFill = 5  # from enum XlHAlign\n",
    "    xlHAlignGeneral = 1  # from enum XlHAlign\n",
    "    xlHAlignJustify = -4130  # from enum XlHAlign\n",
    "    xlHAlignLeft = -4131  # from enum XlHAlign\n",
    "    xlHAlignRight = -4152  # from enum XlHAlign"
   ]
  },
  {
   "cell_type": "markdown",
   "id": "366ee3a9",
   "metadata": {},
   "source": [
    "Tutustu materiaalipaketin muistioon **xlwings2.ipynb**."
   ]
  },
  {
   "cell_type": "markdown",
   "id": "6fbe7d80",
   "metadata": {},
   "source": [
    "## xlsxwriter vai xlwings?"
   ]
  },
  {
   "cell_type": "markdown",
   "id": "5a98e1be",
   "metadata": {},
   "source": [
    "Huomaa ero xlsxwriterin ja xlwingsin välillä:\n",
    "\n",
    "* xlsxwriter kirjoittaa Excel-tiedostoon (katso materiaalipaketin **pika2.ipynb**)\n",
    "* xlwings kirjoittaa avoinna olevaan Exceliin (katso materiaalipaketin **pika1.ipynb**)\n",
    "\n",
    "Näitä kahta ei pidä sekoittaa toisiinsa. Kirjoittamis- ja muotoilukomennot ovat kummassakin omanlaisensa."
   ]
  },
  {
   "cell_type": "markdown",
   "id": "af8fb3e4-6e3e-4a23-96a9-57e0adf46349",
   "metadata": {},
   "source": [
    "Vertaile tiedostojen käsittelyyn liittyviä ominaisuuksia muistioissa pika1.ipynb ja pika2.ipynb. Tämän aihekokonaisuuden soveltamista voi testailla erilaisilla aineistoilla ja muistiolla pika1.ipynb."
   ]
  },
  {
   "cell_type": "markdown",
   "id": "9cb21660",
   "metadata": {},
   "source": [
    "Tehtävissä harjoitellaan Excelin ohjausta Pythonilla."
   ]
  },
  {
   "cell_type": "code",
   "execution_count": 19,
   "id": "0dfb9f51",
   "metadata": {},
   "outputs": [
    {
     "name": "stdout",
     "output_type": "stream",
     "text": [
      "Viimeksi muokattu 2024-04-02 19:20, Juha Nurmonen\n"
     ]
    }
   ],
   "source": [
    "import datetime\n",
    "print(f'Viimeksi muokattu {datetime.datetime.now():%Y-%m-%d %H:%M}, Juha Nurmonen')"
   ]
  }
 ],
 "metadata": {
  "kernelspec": {
   "display_name": "Python 3 (ipykernel)",
   "language": "python",
   "name": "python3"
  },
  "language_info": {
   "codemirror_mode": {
    "name": "ipython",
    "version": 3
   },
   "file_extension": ".py",
   "mimetype": "text/x-python",
   "name": "python",
   "nbconvert_exporter": "python",
   "pygments_lexer": "ipython3",
   "version": "3.10.13"
  }
 },
 "nbformat": 4,
 "nbformat_minor": 5
}
