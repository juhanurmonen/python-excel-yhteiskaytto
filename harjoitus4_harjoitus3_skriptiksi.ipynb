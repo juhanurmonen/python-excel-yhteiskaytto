{
 "cells": [
  {
   "cell_type": "markdown",
   "id": "7d16f981",
   "metadata": {},
   "source": [
    "# Harjoitus 4: Muuta harjoitus 3 skriptiksi"
   ]
  },
  {
   "cell_type": "markdown",
   "id": "e99c9da2",
   "metadata": {},
   "source": [
    "Muunna harjoituksen 3 koodi skriptiksi, jolle voi käynnistyksen yhteydessä ilmoittaa analysoitavan datan. Skriptin pitää avata data (tehtävässä 3 data ladattiin suoraan Excelistä). "
   ]
  },
  {
   "cell_type": "markdown",
   "id": "1d6987a0",
   "metadata": {},
   "source": [
    "<u>Vinkki tehtävään</u>: Dataan avaamisessa pitää huomioida sen rakenne: aineisto alkaa neljänneltä riviltä ja ensimmäinen sarake kannattaa laittaa indeksiin. Tässä tarvitaan read_excel-funktion parametreja **skiprows** ja **index_col**."
   ]
  },
  {
   "cell_type": "code",
   "execution_count": 2,
   "id": "832c1354",
   "metadata": {},
   "outputs": [
    {
     "name": "stdout",
     "output_type": "stream",
     "text": [
      "Last modified 2024-03-31 21:11 by Juha Nurmonen\n"
     ]
    }
   ],
   "source": [
    "import datetime\n",
    "print(f'Last modified {datetime.datetime.now():%Y-%m-%d %H:%M} by Juha Nurmonen')"
   ]
  }
 ],
 "metadata": {
  "kernelspec": {
   "display_name": "Python 3 (ipykernel)",
   "language": "python",
   "name": "python3"
  },
  "language_info": {
   "codemirror_mode": {
    "name": "ipython",
    "version": 3
   },
   "file_extension": ".py",
   "mimetype": "text/x-python",
   "name": "python",
   "nbconvert_exporter": "python",
   "pygments_lexer": "ipython3",
   "version": "3.10.13"
  }
 },
 "nbformat": 4,
 "nbformat_minor": 5
}
