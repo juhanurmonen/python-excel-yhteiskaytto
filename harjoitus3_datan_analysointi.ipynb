{
 "cells": [
  {
   "cell_type": "markdown",
   "id": "2698971e-1258-471e-af65-5c6834a08130",
   "metadata": {},
   "source": [
    "# Harjoitus 3: Datan analysointi"
   ]
  },
  {
   "cell_type": "markdown",
   "id": "d57041ac-06b8-437e-88b0-fcadef73dd23",
   "metadata": {},
   "source": [
    "Tässä tehtävässä opitaan automatisoimaan Excelissä auki olevan datan analysointi. Tämän tyyppinen automatisointi kannattaa tehdä, jos analysoidaan toistuvasti rakenteeltaan samanlaisia datoja."
   ]
  },
  {
   "cell_type": "markdown",
   "id": "986556a6-c8d9-40fb-88ce-49d6ca8206d3",
   "metadata": {},
   "source": [
    "Tehtävänä on automatisoida materiaalipaketista löytyvän **data/aineisto.xlsx**-tyyppisen datan analysointi siten että avoinna oleva data ladataan suoraan Excelistä (xw.load-funktiolla). Analysoinnin tulee sisältää:na."
   ]
  },
  {
   "cell_type": "markdown",
   "id": "c6c7a8c0-f40f-440b-8941-80e335d10958",
   "metadata": {},
   "source": [
    "* Tilastolliset tunnusluvut taulukkona ja pylväskaaviona. Pylväskaavion pylväät on syytä järjestää keskiarvon mukaiseen järjestykseen.\n",
    "* Frekvenssitaulukot ja frekvenssit vaakapylväskaavioina."
   ]
  },
  {
   "cell_type": "markdown",
   "id": "a7be1781-fa70-4630-811d-2b03689dd080",
   "metadata": {},
   "source": [
    "Tavoitteena voit pitää suurin piirtein materiaalipaketin **output/aineisto_tulokset.xlsx** kaltaista Exceliä. Kannattaa rakentaa sovellusta pala palalta esimerkiksi seuraavasti:"
   ]
  },
  {
   "cell_type": "markdown",
   "id": "9a6c0567-0185-466c-8a63-6fa676f946bd",
   "metadata": {},
   "source": [
    "* Toteuta ensiksi tunnuslukutaulukon laskenta Exceliin. Hyviä vihjeitä tämän toteuttamiseen saat materiaalipaketin muistiosta **xlwings2.ipynb**.\n",
    "* Tuo grafiikkaa varten matplotlib.pyplot-grafiikka kirjasto __import matplotlib.pyplot as plt__). Tee pylväskaavio esimerkiksi seuraavan kaltaisella koodilla:"
   ]
  },
  {
   "cell_type": "markdown",
   "id": "c373e3c0",
   "metadata": {},
   "source": [
    "  __fig = plt.figure__\n",
    "\n",
    "  __tunnusluvut.sort_values(by='Keskiarvo')['Keskiarvo'].plot.barh(width=0.7)__\n",
    "  \n",
    "  __plt.xlabel('1 = täysin eri mieltä,..., 5 = täysin samaa mieltä')__\n",
    "  \n",
    "  __plt.xlim(1, 5)__\n",
    "  \n",
    "  __plt.grid(axis = 'x')__"
   ]
  },
  {
   "cell_type": "markdown",
   "id": "b5e1580e",
   "metadata": {},
   "source": [
    "* Lisää pylväskaavioita Exceliin xlwingsin __pictures.add__-funktiolla: https://docs.xlwings.org/en/latest/api/pictures.html#xlwings.main.Pictures.add.\n",
    "* Lisää Exceliin taulukkovälilehti frekvenssitaulukoita varten.\n",
    "* Katso mallia frekvenssitaulukon laadintaan materiaalipaketin muistiosta __pika1.ipynb__.\n",
    "* Pylväskaavion muuttujalle var voi laatia esimerkiksi koodilla:"
   ]
  },
  {
   "cell_type": "markdown",
   "id": "1e1d5435",
   "metadata": {},
   "source": [
    " __fig = plt.figure()__\n",
    " \n",
    " __df1['f'].plot.barh()__\n",
    " \n",
    " __plt.xlabel('Henkilöä')__\n",
    " \n",
    " __plt.ylabel('')__\n",
    " \n",
    " __plt.title(var)__"
   ]
  },
  {
   "cell_type": "markdown",
   "id": "bc89b1fa",
   "metadata": {},
   "source": [
    "* Kannattaa lisätä Exceliin ensin yksi kaavio ja frekvenssitaulukko. Hae kokeilemalla sopivat sijainnit kaaviolle ja taulukolle.\n",
    "* Lisää for-silmukka ja hae sopiva arvo, jolla kasvatat aloitusriviä edelliseen kaavioon ja taulukkoon verrattuna.\n",
    "* Lopuksi on hyvä vielä viimeistellä muotoiluja."
   ]
  },
  {
   "cell_type": "markdown",
   "id": "4ce1ee91-a1a7-47a7-b7f6-f5e7468eafa4",
   "metadata": {},
   "source": [
    "Testaa koodin toimivuutta materiaalipaketin data-kansion datalla aineisto2.xlsx."
   ]
  },
  {
   "cell_type": "code",
   "execution_count": 1,
   "id": "d418929a-d2a7-4c82-8f02-412e3d505958",
   "metadata": {},
   "outputs": [
    {
     "name": "stdout",
     "output_type": "stream",
     "text": [
      "Last modified 2024-03-31 20:50 by Juha Nurmonen\n"
     ]
    }
   ],
   "source": [
    "import datetime\n",
    "print(f'Last modified {datetime.datetime.now():%Y-%m-%d %H:%M} by Juha Nurmonen')"
   ]
  }
 ],
 "metadata": {
  "kernelspec": {
   "display_name": "Python 3 (ipykernel)",
   "language": "python",
   "name": "python3"
  },
  "language_info": {
   "codemirror_mode": {
    "name": "ipython",
    "version": 3
   },
   "file_extension": ".py",
   "mimetype": "text/x-python",
   "name": "python",
   "nbconvert_exporter": "python",
   "pygments_lexer": "ipython3",
   "version": "3.10.13"
  }
 },
 "nbformat": 4,
 "nbformat_minor": 5
}
