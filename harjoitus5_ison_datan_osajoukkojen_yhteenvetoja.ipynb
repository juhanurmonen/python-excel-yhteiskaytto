{
 "cells": [
  {
   "cell_type": "markdown",
   "id": "11723f7b",
   "metadata": {},
   "source": [
    "# Harjoitus 5: Ison aineiston osajoukon yhteenveto"
   ]
  },
  {
   "cell_type": "markdown",
   "id": "155ba5cd",
   "metadata": {},
   "source": [
    "Tässä tehtävässä opitaan poimimaan osa isosta datasta yhteevetojen laskemista varten."
   ]
  },
  {
   "cell_type": "markdown",
   "id": "791ecc2c",
   "metadata": {},
   "source": [
    "Excelin-taulukossa ei voi käsitellä isoja datoja. Pythonia käyttäen isoista datoista voi kuitenkin poimia osia Exceliin. Tehtävässä käytetään esimerkkinä tällaisesta aineistosta ajoneuvojen avoin data -aineistoa osoitteesta https://www.traficom.fi/fi/ajankohtaista/avoin-data?toggle=Ajoneuvojen%20avoin%20data. Kyseinen data sisältää 38 muuttujaa ja yli 5 miljoonaa riviä."
   ]
  },
  {
   "cell_type": "markdown",
   "id": "c1a5a7c3",
   "metadata": {},
   "source": [
    "Tutustu ensin seuraavaan skriptiin. Se löytyy myös materiaalipaketin tiedostosta **autot.py**."
   ]
  },
  {
   "cell_type": "code",
   "execution_count": 1,
   "id": "5348266e",
   "metadata": {},
   "outputs": [],
   "source": [
    "## Skripti autot.py\n",
    "\n",
    "import pandas as pd\n",
    "import requests\n",
    "\n",
    "# zip-paketin lataaminen\n",
    "url = 'https://opendata.traficom.fi/Content/Ajoneuvorekisteri.zip'\n",
    "r = requests.get(url)\n",
    "with open('pyex/output/Ajoneuvorekisteri.zip','wb') as file:\n",
    "    file.write(r.content)\n",
    "\n",
    "# Datan poiminta\n",
    "cols = ['ajoneuvoluokka', 'ensirekisterointipvm', 'vari', 'merkkiSelvakielinen']\n",
    "df = pd.read_csv('pyex/output/Ajoneuvorekisteri.zip', sep=';', encoding='ISO8859-1', usecols=cols)\n",
    "df = df[df['ajoneuvoluokka'].isin(['M1', 'M1G'])]\n",
    "df['ensirekisterointipvm'] = pd.to_datetime(df['ensirekisterointipvm'], format='%Y-%m-%d')\n",
    "df = df[df['ensirekisterointipvm']>'2022-01-01'].sort_values('ensirekisterointipvm')\n",
    "\n",
    "# Värien frekvenssit\n",
    "varit = ['Musta', 'Ruskea (beige)', 'Punainen', 'Oranssi','Keltainen', 'Vihreä', 'Sininen',\n",
    "        'Violetti', 'Harmaa', 'Valkoinen', 'Monivär.', 'Hopea', 'Turkoosi']\n",
    "df1 = pd.crosstab(df['vari'], 'f')\n",
    "df1.columns.name = ''\n",
    "df1.index = varit\n",
    "df1.sort_values('f', ascending = False)\n",
    "\n",
    "# Suosituimmat merkit\n",
    "df['merkkiSelvakielinen'] = df['merkkiSelvakielinen'].replace({'Volkswagen, VW':'Volkswagen'})\n",
    "df2 = pd.crosstab(df['merkkiSelvakielinen'], 'f').nlargest(20, 'f' )\n",
    "df_suositut = df[df['merkkiSelvakielinen'].isin(df2.index)]\n",
    "\n",
    "# Suosituimpien merkkien värit\n",
    "df3 = pd.crosstab(df_suositut['merkkiSelvakielinen'], df_suositut['vari'])\n",
    "df3.columns = varit\n"
   ]
  },
  {
   "cell_type": "markdown",
   "id": "642d2b70",
   "metadata": {},
   "source": [
    "* Ladataan data (zip-paketti) ja tallennetaan se samaan kansioon skriptin kanssa. Tämä voi kestää pitkäänkin (riippuu nettiyhteyden nopeudesta).\n",
    "* Avataan rajattu joukko muuttujia tietokehykseen (**df**) ja poimitaan mukaan henkilöautot vuoden 2022 alusta eteenpäin. Huomaa, että pandas-kirjaston funktio read_csv purkaa zip-paketin automaattisesti.\n",
    "* Lasketaan joitain yhteenvetoja (**df1**, **df2**, **df3**). "
   ]
  },
  {
   "cell_type": "markdown",
   "id": "afaf3e75",
   "metadata": {},
   "source": [
    "Täydennä skripti siten että se kirjoittaa tiedot (df, df1, df2 ja df3) Exceliin omille taulukkovälilehdilleen. Skriptiä testatessa on hyvä jättää pois datan lataaminen sen jälkeen kun se on yhden kerran suoritettu. "
   ]
  },
  {
   "cell_type": "code",
   "execution_count": 2,
   "id": "19900f2a",
   "metadata": {},
   "outputs": [
    {
     "name": "stdout",
     "output_type": "stream",
     "text": [
      "Last modified 2024-04-11 19:59 by Juha Nurmonen\n"
     ]
    }
   ],
   "source": [
    "import datetime\n",
    "print(f'Last modified {datetime.datetime.now():%Y-%m-%d %H:%M} by Juha Nurmonen')"
   ]
  }
 ],
 "metadata": {
  "kernelspec": {
   "display_name": "Python 3 (ipykernel)",
   "language": "python",
   "name": "python3"
  },
  "language_info": {
   "codemirror_mode": {
    "name": "ipython",
    "version": 3
   },
   "file_extension": ".py",
   "mimetype": "text/x-python",
   "name": "python",
   "nbconvert_exporter": "python",
   "pygments_lexer": "ipython3",
   "version": "3.10.13"
  }
 },
 "nbformat": 4,
 "nbformat_minor": 5
}
