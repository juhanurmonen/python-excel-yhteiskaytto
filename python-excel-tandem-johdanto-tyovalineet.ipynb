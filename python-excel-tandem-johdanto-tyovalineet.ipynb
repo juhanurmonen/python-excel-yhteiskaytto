{
 "cells": [
  {
   "cell_type": "markdown",
   "id": "13fbb328-5487-4f2c-98a2-64368eed669a",
   "metadata": {},
   "source": [
    "# Pythonin ja Excelin yhteiskäyttö: Johdanto ja työvälineet"
   ]
  },
  {
   "cell_type": "markdown",
   "id": "05355f5b-7f3f-40c8-b91e-059b28de1217",
   "metadata": {},
   "source": [
    "Excelin käyttöliittymä on vertaansa vailla rakenteellisen tiedon järjestämisessä, muotoilussa ja esittämisessä. Tätä ei kannata jättää hyödyntämättä. Tässä materiaali- ja kurssikokonaisuudessa käytetään Microsoft Excel -taulukkolaskentaohjelmaa."
   ]
  },
  {
   "attachments": {
    "8ad6def4-5b63-4d07-b4ba-abc95b3d713a.jpg": {
     "image/jpeg": "[encoded data removed]"
    }
   },
   "cell_type": "markdown",
   "id": "4ad1f86d-a19f-4673-a24b-a97947a2a0f0",
   "metadata": {},
   "source": [
    "<a href=\"https://en.wikipedia.org/wiki/Monty_Python#Things_named_after_Monty_Python\">![Monty_Python_Ministry_of_SIlly_Walks.jpg](attachment:8ad6def4-5b63-4d07-b4ba-abc95b3d713a.jpg)</a>"
   ]
  },
  {
   "cell_type": "markdown",
   "id": "ee292210-d02e-47bf-b8da-03bee9c1d549",
   "metadata": {},
   "source": [
    "Python on yleiskäyttöinen ohjelmointikieli, jonka oppii helposti (verrattuna moneen muuhun ohjelmointikieleen). Pythoniin on rakennettu monia data-analytiikkaan liittyviä ohjelmakirjastoja, jotka ovat tehneet Pythonista monipuolisen alustan laskentaan, data-analytiikkaan ja tekoälysovelluksiin. Nykyään Pythonilla voi ohjelmoida myös Exceliä, jolloin voidaan automatisoida Excelin toimintoja ja hyödyntää Excelin käyttöliittymää Pythonilla laskettujen tulosten esittämisessä. Näin yhdistyvät Pythonin ja Excelin parhaat puolet."
   ]
  },
  {
   "cell_type": "markdown",
   "id": "e01a3d36-9af1-40e7-b82a-4382f76c85e5",
   "metadata": {},
   "source": [
    "## Excel"
   ]
  },
  {
   "cell_type": "markdown",
   "id": "9132c493-f299-425f-a479-710d064a6c42",
   "metadata": {},
   "source": [
    "Excelin Python-ohjelmointiin tarvitaan Windows-koneilla Excel 2010 tai uudempi ja macOS-koneilla Excel 2016 tai uudempi. Molemmissa käyttöjärjestelmissä myös Office365:n Excel mahdollistaa Python-ohjelmoinnin."
   ]
  },
  {
   "cell_type": "markdown",
   "id": "302b8f48-4d44-407c-9390-99696e5e7800",
   "metadata": {},
   "source": [
    "## Miniconda tai Anaconda"
   ]
  },
  {
   "cell_type": "markdown",
   "id": "397456bb-fce5-4e6a-b1e4-5a3751bbe32e",
   "metadata": {},
   "source": [
    "Asenna itsellesi joko **Miniconda** tai **Anaconda**.\n",
    "* Minicondan asennusohjeet: https://docs.anaconda.com/free/miniconda/miniconda-install/\n",
    "* Anacondan asennusohjeet: https://docs.anaconda.com/free/anaconda/install/index.html"
   ]
  },
  {
   "cell_type": "markdown",
   "id": "8889825f-5294-47b8-aa6d-4bc8cfe46fcb",
   "metadata": {},
   "source": [
    "**Miniconda** sisältää Pythonin ja **conda**-paketinhallintajärjestelmän. Minicondan komentorivin kautta voi asentaa **Jupyter notebook**in ja tarvittavat ohjelmakirjastot. Tätä kurssia varten täytyy tehdä ainakin seuraavat asennukset."
   ]
  },
  {
   "cell_type": "markdown",
   "id": "fa955d01-3efc-4993-b724-d8f77ac10f87",
   "metadata": {},
   "source": [
    "* conda install jupyter\n",
    "* conda install pandas\n",
    "* conda install seaborn\n",
    "* conda install scikit-learn\n",
    "* conda install statsmodels\n",
    "* conda install xlwings\n",
    "* conda install openpyxl\n",
    "* conda install xlsxwriter\n",
    "* pip install yfinance (korvaa aiemmin käytetyn: conda install -c conda-forge yfinance)"
   ]
  },
  {
   "cell_type": "markdown",
   "id": "b145dfa4-b100-46b3-be89-05ce3828f3e9",
   "metadata": {},
   "source": [
    "**Anaconda** on ”avaimet käteen” paketti Pythonin data-analytiikka ominaisuuksien käyttöön. Mukana tulee laaja kokoelma ohjelmakirjastoja ja muistioihin (notebooks) perustuva ohjelmointiympäristö __Jupyter notebook__. Jos sinulla on entuudestaan  Anaconda, jonka haluat päivittää uudempaan tai joka on mennyt \"solmuun\" tai josta haluat päästä eroon, niin lue ohje asennuksen purkamiseen: https://docs.anaconda.com/anaconda/install/uninstall/."
   ]
  },
  {
   "cell_type": "markdown",
   "id": "dcf1caf4-7e7f-43ea-b1e2-1454c35cf8f8",
   "metadata": {},
   "source": [
    "Lisätietoa Minicondasta ja Anacondasta https://tilastoapu.wordpress.com/2017/12/13/asenna-anaconda-2/."
   ]
  },
  {
   "cell_type": "markdown",
   "id": "347b5af9-6688-434d-af92-1e1cdee4b650",
   "metadata": {},
   "source": [
    "## Komentorivi"
   ]
  },
  {
   "cell_type": "markdown",
   "id": "9648fa5d-04a9-4de4-9671-bc84d1276286",
   "metadata": {},
   "source": [
    "Komentoriviä käytetään kahteen asiaan:\n",
    "* Komentoriviltä asennetaan ohjelmakirjastoja.\n",
    "* Komentoriviltä käännetään Python-skriptejä."
   ]
  },
  {
   "cell_type": "markdown",
   "id": "629df89c-cdbc-479e-9d42-431f5fbf0888",
   "metadata": {},
   "source": [
    "Komentoriville pääsee\n",
    "* Windows-koneilla käynnistämällä **Anaconda Prompt**.\n",
    "* Applen koneilla käynnistämällä **Terminal/Pääte**."
   ]
  },
  {
   "cell_type": "markdown",
   "id": "dfba9749-7bca-493c-83bb-42533dce2333",
   "metadata": {},
   "source": [
    "Komentoriviltä käytettävien __Conda__-komentojen [lunttilappu](https://docs.conda.io/projects/conda/en/latest/user-guide/cheatsheet.html) voi myös osoittautua hyödylliseksi."
   ]
  },
  {
   "cell_type": "markdown",
   "id": "19aa2e3d-d8b8-49b2-91df-7346f9aef855",
   "metadata": {},
   "source": [
    "## Jupyter Notebook"
   ]
  },
  {
   "cell_type": "markdown",
   "id": "9f4106e2-0eb2-42ee-86e4-73ad7d25e2f9",
   "metadata": {},
   "source": [
    "**Jupyter notebook** on data-analytiikkaan sopiva ja laajasti käytetty ohjelmointiympäristö. Lue lisää https://tilastoapu.wordpress.com/2017/12/13/jupyter-2/."
   ]
  },
  {
   "cell_type": "markdown",
   "id": "fb49df25-a22f-488e-abe3-178ec2485f20",
   "metadata": {},
   "source": [
    "## Visual Studio Code"
   ]
  },
  {
   "cell_type": "markdown",
   "id": "48ecc42b-f969-4954-adf0-633a7536d44c",
   "metadata": {},
   "source": [
    "Jupyter notebook on paras vaihtoehto Pythonin ja Excelin interaktiiviseen yhteiskäyttöön. Python-skriptien kirjoittamiseen ja testaamiseen on kuitenkin sujuvampaa käyttää muunlaisia ohjelmointiympäristöjä. Hyvä valinta on **Visual Studio Code**, jonka voi asentaa osoitteesta https://code.visualstudio.com/. Visual Studio Coden asennuksen jälkeen pitää vielä asentaa Visual Studio Codeen Microsoftin Python-lisäosa. Sen mukana tulee myös mahdollisuus käyttää Jupyter notebookilla tehtyjä muistioita Visual Studio Codessa.\r\n"
   ]
  },
  {
   "cell_type": "markdown",
   "id": "c17e7dd4-f863-421d-b512-e4445abb07dd",
   "metadata": {},
   "source": [
    "<u>Lähde ja lisämateriaalia</u>: \n",
    "Aki Taanila: Data-analytiikka Pythonilla, https://tilastoapu.wordpress.com/python/."
   ]
  },
  {
   "cell_type": "code",
   "execution_count": 1,
   "id": "34a603d3-1479-4860-b5bb-3db14f5eab90",
   "metadata": {},
   "outputs": [
    {
     "name": "stdout",
     "output_type": "stream",
     "text": [
      "Last modified 2025-04-27 00:50 by Juha Nurmonen\n"
     ]
    }
   ],
   "source": [
    "import datetime\n",
    "print(f'Last modified {datetime.datetime.now():%Y-%m-%d %H:%M} by Juha Nurmonen')"
   ]
  }
 ],
 "metadata": {
  "kernelspec": {
   "display_name": "Python 3 (ipykernel)",
   "language": "python",
   "name": "python3"
  },
  "language_info": {
   "codemirror_mode": {
    "name": "ipython",
    "version": 3
   },
   "file_extension": ".py",
   "mimetype": "text/x-python",
   "name": "python",
   "nbconvert_exporter": "python",
   "pygments_lexer": "ipython3",
   "version": "3.12.3"
  }
 },
 "nbformat": 4,
 "nbformat_minor": 5
}
