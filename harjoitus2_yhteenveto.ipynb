{
 "cells": [
  {
   "cell_type": "markdown",
   "id": "31e8c189",
   "metadata": {},
   "source": [
    "# Harjoitus 2: Usean taulukon yhteenveto"
   ]
  },
  {
   "cell_type": "markdown",
   "id": "9f8c9d89",
   "metadata": {},
   "source": [
    "Tässä tehtävässä opit laskemaan yhteenvedon usean Excel-taulukkovälilehden tiedoista. Tehtävän 1 automatisoinnin tapaan tämä on yleisimpiä automatisoinnin kohteita Excelissä."
   ]
  },
  {
   "cell_type": "markdown",
   "id": "d64ba725",
   "metadata": {},
   "source": [
    "Excelillä tehdään usein yhteenvetoja eri taulukkovälilehdiltä. Tämän voi kätevästi automatisoida **for**-silmukan avulla. Tutustu ensin seuraavaan koodiin."
   ]
  },
  {
   "cell_type": "code",
   "execution_count": 1,
   "id": "ecc0ec6c",
   "metadata": {},
   "outputs": [],
   "source": [
    "import pandas as pd\n",
    "import xlwings as xw"
   ]
  },
  {
   "cell_type": "code",
   "execution_count": 2,
   "id": "87f8b48a",
   "metadata": {},
   "outputs": [
    {
     "data": {
      "text/html": [
       "<div>\n",
       "<style scoped>\n",
       "    .dataframe tbody tr th:only-of-type {\n",
       "        vertical-align: middle;\n",
       "    }\n",
       "\n",
       "    .dataframe tbody tr th {\n",
       "        vertical-align: top;\n",
       "    }\n",
       "\n",
       "    .dataframe thead th {\n",
       "        text-align: right;\n",
       "    }\n",
       "</style>\n",
       "<table border=\"1\" class=\"dataframe\">\n",
       "  <thead>\n",
       "    <tr style=\"text-align: right;\">\n",
       "      <th></th>\n",
       "      <th>Toukokuu</th>\n",
       "      <th>Kesäkuu</th>\n",
       "      <th>Heinäkuu</th>\n",
       "      <th>Elokuu</th>\n",
       "      <th>Syyskuu</th>\n",
       "      <th>Yhteensä</th>\n",
       "    </tr>\n",
       "  </thead>\n",
       "  <tbody>\n",
       "    <tr>\n",
       "      <th>Ahven</th>\n",
       "      <td>0.0</td>\n",
       "      <td>0.0</td>\n",
       "      <td>0.0</td>\n",
       "      <td>0.0</td>\n",
       "      <td>0.0</td>\n",
       "      <td>0.0</td>\n",
       "    </tr>\n",
       "    <tr>\n",
       "      <th>Hauki</th>\n",
       "      <td>0.0</td>\n",
       "      <td>0.0</td>\n",
       "      <td>0.0</td>\n",
       "      <td>0.0</td>\n",
       "      <td>0.0</td>\n",
       "      <td>0.0</td>\n",
       "    </tr>\n",
       "    <tr>\n",
       "      <th>Kuha</th>\n",
       "      <td>0.0</td>\n",
       "      <td>0.0</td>\n",
       "      <td>0.0</td>\n",
       "      <td>0.0</td>\n",
       "      <td>0.0</td>\n",
       "      <td>0.0</td>\n",
       "    </tr>\n",
       "    <tr>\n",
       "      <th>Muut</th>\n",
       "      <td>0.0</td>\n",
       "      <td>0.0</td>\n",
       "      <td>0.0</td>\n",
       "      <td>0.0</td>\n",
       "      <td>0.0</td>\n",
       "      <td>0.0</td>\n",
       "    </tr>\n",
       "    <tr>\n",
       "      <th>Yhteensä</th>\n",
       "      <td>0.0</td>\n",
       "      <td>0.0</td>\n",
       "      <td>0.0</td>\n",
       "      <td>0.0</td>\n",
       "      <td>0.0</td>\n",
       "      <td>0.0</td>\n",
       "    </tr>\n",
       "  </tbody>\n",
       "</table>\n",
       "</div>"
      ],
      "text/plain": [
       "          Toukokuu  Kesäkuu  Heinäkuu  Elokuu  Syyskuu  Yhteensä\n",
       "Ahven          0.0      0.0       0.0     0.0      0.0       0.0\n",
       "Hauki          0.0      0.0       0.0     0.0      0.0       0.0\n",
       "Kuha           0.0      0.0       0.0     0.0      0.0       0.0\n",
       "Muut           0.0      0.0       0.0     0.0      0.0       0.0\n",
       "Yhteensä       0.0      0.0       0.0     0.0      0.0       0.0"
      ]
     },
     "execution_count": 2,
     "metadata": {},
     "output_type": "execute_result"
    }
   ],
   "source": [
    "# Luodaan uusi Excel-instanssi\n",
    "app=xw.App()\n",
    "\n",
    "# Kalastuskerhon saaliita eri vuosilta\n",
    "wb1 = xw.Book('pyex/data/kalat.xlsx')\n",
    "\n",
    "# Napataan ensimmäiseltä taulukkovälilehdeltä pohja kalansaaliiden yhteenvedolle\n",
    "kalansaaliit = wb1.sheets[0].range('A3').expand().options(pd.DataFrame).value * 0\n",
    "kalansaaliit"
   ]
  },
  {
   "cell_type": "markdown",
   "id": "c4a00cc9",
   "metadata": {},
   "source": [
    "Jatka edellä olevaa koodia omaan muistioon seuraavasti:"
   ]
  },
  {
   "cell_type": "markdown",
   "id": "a1c3531b",
   "metadata": {},
   "source": [
    "* Käy for-silmukalla läpi kaikki wb1:n taulukkovälilehdet ja lisää kunkin vuoden saaliit kalansaaliit-tietokehykseen.\n",
    "* Lisää wb1:een **Yhteenveto**-taulukkovälilehti, ja kirjoita siihen kalansaaliit-tietokehys.\n",
    "* Kopioi Kalat88-taulukkovälilehdeltä muotoilut Yhteenveto-taulukkovälilehdelle:\n",
    "     **wb1.sheets('Kalat88').range('A3').current_region.copy()**\n",
    "     **wb1.sheets('Yhteenveto').used_range.paste(paste='formats')**\n",
    "\n",
    "* Tallenna wb1 **output**-kansioon **kalansaaliit.xlsx**-nimisenä ja sulje lopuksi Excel-instanssi."
   ]
  },
  {
   "cell_type": "code",
   "execution_count": 3,
   "id": "01022a1f",
   "metadata": {},
   "outputs": [
    {
     "name": "stdout",
     "output_type": "stream",
     "text": [
      "Viimeksi muokattu 2024-03-27 16:43, Juha Nurmonen\n"
     ]
    }
   ],
   "source": [
    "import datetime\n",
    "print(f'Viimeksi muokattu {datetime.datetime.now():%Y-%m-%d %H:%M}, Juha Nurmonen')"
   ]
  }
 ],
 "metadata": {
  "kernelspec": {
   "display_name": "Python 3 (ipykernel)",
   "language": "python",
   "name": "python3"
  },
  "language_info": {
   "codemirror_mode": {
    "name": "ipython",
    "version": 3
   },
   "file_extension": ".py",
   "mimetype": "text/x-python",
   "name": "python",
   "nbconvert_exporter": "python",
   "pygments_lexer": "ipython3",
   "version": "3.10.13"
  }
 },
 "nbformat": 4,
 "nbformat_minor": 5
}
