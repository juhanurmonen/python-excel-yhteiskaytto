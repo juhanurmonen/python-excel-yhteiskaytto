{
 "cells": [
  {
   "cell_type": "markdown",
   "id": "2c7b784b",
   "metadata": {},
   "source": [
    "# Harjoitus 6: Excel käyttöliittymänä"
   ]
  },
  {
   "cell_type": "markdown",
   "id": "ae840326",
   "metadata": {},
   "source": [
    "Tee Exceliin käyttöliittymä jollekin itse tekemällesi skriptille, joka kirjoittaa tuloksia Exceliin."
   ]
  },
  {
   "cell_type": "code",
   "execution_count": 2,
   "id": "bdeaaed3",
   "metadata": {},
   "outputs": [
    {
     "name": "stdout",
     "output_type": "stream",
     "text": [
      "Last modified 2024-03-31 21:21 by Juha Nurmonen\n"
     ]
    }
   ],
   "source": [
    "import datetime\n",
    "print(f'Last modified {datetime.datetime.now():%Y-%m-%d %H:%M} by Juha Nurmonen')"
   ]
  }
 ],
 "metadata": {
  "kernelspec": {
   "display_name": "Python 3 (ipykernel)",
   "language": "python",
   "name": "python3"
  },
  "language_info": {
   "codemirror_mode": {
    "name": "ipython",
    "version": 3
   },
   "file_extension": ".py",
   "mimetype": "text/x-python",
   "name": "python",
   "nbconvert_exporter": "python",
   "pygments_lexer": "ipython3",
   "version": "3.10.13"
  }
 },
 "nbformat": 4,
 "nbformat_minor": 5
}
