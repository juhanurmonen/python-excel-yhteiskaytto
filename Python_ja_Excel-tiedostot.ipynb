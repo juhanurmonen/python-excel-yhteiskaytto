{
 "cells": [
  {
   "cell_type": "markdown",
   "id": "0e98e2eb",
   "metadata": {},
   "source": [
    "# Python ja Excel-tiedostot"
   ]
  },
  {
   "cell_type": "markdown",
   "id": "c1ec16f4",
   "metadata": {},
   "source": [
    "Tässä muistiossa tutustutaan **Python**-ohjelmointikielen kirjastoihin, joiden avulla luetaan ja kirjoitetaan Excel-tiedostoja."
   ]
  },
  {
   "cell_type": "markdown",
   "id": "76a67cff",
   "metadata": {},
   "source": [
    "## read_excel, to_excel"
   ]
  },
  {
   "cell_type": "markdown",
   "id": "93899051",
   "metadata": {},
   "source": [
    "Excel-tiedostoja voi lukea ja kirjoittaa vaikka Exceliä ei olisi koneelle asennettu. **Pandas**-kirjaston **read_excel**-funktio osaa lukea datan Excel-tiedostosta ja **to_excel**-funktio osaa tallentaa **tietokehyksen** uuteen Excel-tiedostoon."
   ]
  },
  {
   "cell_type": "code",
   "execution_count": 1,
   "id": "2eb03e0a",
   "metadata": {},
   "outputs": [],
   "source": [
    "import pandas as pd"
   ]
  },
  {
   "cell_type": "markdown",
   "id": "18735595",
   "metadata": {},
   "source": [
    "Oletuksena read_excel lukee datan Excel-tiedoston ensimmäiseltä taulukkovälilehdeltä. Parametreilla voi tarkemmin määritellä luettavan solualueen sijainnin ja muut erityispiirteet. Lisätietoa read_excel-funktion parametreista löytyy artikkelista https://pandas.pydata.org/pandas-docs/stable/reference/api/pandas.read_excel.html. Tyypillisiä käyttöön tulevia parametreja ovat *sheet_name*, *index_col*, *usecols* ja *skiprows*."
   ]
  },
  {
   "cell_type": "markdown",
   "id": "97ba3d18",
   "metadata": {},
   "source": [
    "Seuraavassa solussa data-hakemiston tiedoston kalat.xlsx aineisto luetaan tietokehykseen niin, että\n",
    "\n",
    "* aineisto luetaan ensimmäiseltä taulukkovälilehdeltä (oletus)\n",
    "* hypätään 2 ensimmäistä riviä yli (skiprows)\n",
    "* tehdään ensimmäisestä sarakkeesta dataframen indeksi (index_col)."
   ]
  },
  {
   "cell_type": "code",
   "execution_count": 2,
   "id": "7290f688",
   "metadata": {
    "scrolled": true
   },
   "outputs": [
    {
     "data": {
      "text/html": [
       "<div>\n",
       "<style scoped>\n",
       "    .dataframe tbody tr th:only-of-type {\n",
       "        vertical-align: middle;\n",
       "    }\n",
       "\n",
       "    .dataframe tbody tr th {\n",
       "        vertical-align: top;\n",
       "    }\n",
       "\n",
       "    .dataframe thead th {\n",
       "        text-align: right;\n",
       "    }\n",
       "</style>\n",
       "<table border=\"1\" class=\"dataframe\">\n",
       "  <thead>\n",
       "    <tr style=\"text-align: right;\">\n",
       "      <th></th>\n",
       "      <th>Toukokuu</th>\n",
       "      <th>Kesäkuu</th>\n",
       "      <th>Heinäkuu</th>\n",
       "      <th>Elokuu</th>\n",
       "      <th>Syyskuu</th>\n",
       "      <th>Yhteensä</th>\n",
       "    </tr>\n",
       "  </thead>\n",
       "  <tbody>\n",
       "    <tr>\n",
       "      <th>Ahven</th>\n",
       "      <td>10</td>\n",
       "      <td>16</td>\n",
       "      <td>14</td>\n",
       "      <td>16</td>\n",
       "      <td>2</td>\n",
       "      <td>58</td>\n",
       "    </tr>\n",
       "    <tr>\n",
       "      <th>Hauki</th>\n",
       "      <td>12</td>\n",
       "      <td>25</td>\n",
       "      <td>20</td>\n",
       "      <td>23</td>\n",
       "      <td>5</td>\n",
       "      <td>85</td>\n",
       "    </tr>\n",
       "    <tr>\n",
       "      <th>Kuha</th>\n",
       "      <td>8</td>\n",
       "      <td>13</td>\n",
       "      <td>10</td>\n",
       "      <td>12</td>\n",
       "      <td>2</td>\n",
       "      <td>45</td>\n",
       "    </tr>\n",
       "    <tr>\n",
       "      <th>Muut</th>\n",
       "      <td>5</td>\n",
       "      <td>12</td>\n",
       "      <td>9</td>\n",
       "      <td>8</td>\n",
       "      <td>2</td>\n",
       "      <td>36</td>\n",
       "    </tr>\n",
       "    <tr>\n",
       "      <th>Yhteensä</th>\n",
       "      <td>35</td>\n",
       "      <td>66</td>\n",
       "      <td>53</td>\n",
       "      <td>59</td>\n",
       "      <td>11</td>\n",
       "      <td>224</td>\n",
       "    </tr>\n",
       "  </tbody>\n",
       "</table>\n",
       "</div>"
      ],
      "text/plain": [
       "          Toukokuu  Kesäkuu  Heinäkuu  Elokuu  Syyskuu  Yhteensä\n",
       "Ahven           10       16        14      16        2        58\n",
       "Hauki           12       25        20      23        5        85\n",
       "Kuha             8       13        10      12        2        45\n",
       "Muut             5       12         9       8        2        36\n",
       "Yhteensä        35       66        53      59       11       224"
      ]
     },
     "execution_count": 2,
     "metadata": {},
     "output_type": "execute_result"
    }
   ],
   "source": [
    "df = pd.read_excel('pyex/data/kalat.xlsx', skiprows=2, index_col=0)\n",
    "df"
   ]
  },
  {
   "cell_type": "markdown",
   "id": "53ad3947",
   "metadata": {},
   "source": [
    "Excel-tiedostossa kalat.xlsx on kalansaaliita taulukkovälilehdillä Kalat88, Kalat89, Kalat90, Kalat91 ja Kalat92. \n",
    "\n",
    "Harjoittele aineiston avaamista myös muilta kuin Kalat88-taulukkovälilehdiltä.\n",
    "\n",
    "Lisätietoa read_excel-funktion parametreista: https://pandas.pydata.org/docs/reference/api/pandas.read_excel.html"
   ]
  },
  {
   "cell_type": "markdown",
   "id": "e05f2902",
   "metadata": {},
   "source": [
    "**Huomaa!** Jos et ole aiemmin asentanut **yfinance**-kirjastoa, niin asenna se ennen seuraavan koodin suorittamista (vrt. myös **elisa.ipynb**-muistio). Asenna yfinance komentoriviltä komennolla\n",
    "$$\\textrm{conda install -c conda-forge yfinance}$$"
   ]
  },
  {
   "cell_type": "markdown",
   "id": "7abe77d7",
   "metadata": {},
   "source": [
    "Komentoriville pääsee \n",
    "* Windows: käynnistä **Anaconda Prompt**\n",
    "* macOS: käynnistä **Terminal/Pääte**\n",
    "\n",
    "Kirjaston yfinance avulla voi hakea tietoja **Yahoo Finance** -palvelusta (https://finance.yahoo.com/)."
   ]
  },
  {
   "cell_type": "markdown",
   "id": "6c6217cc",
   "metadata": {},
   "source": [
    "Oletuksena to_excel kirjoittaa tietokehyksen uuteen Excel-tiedostoon. Seuraava koodi hakee Yahoo Finance -sivustolta Elisan osakkeen kurssihistorian ja kirjoittaa sen output/elisa.xlsx-tiedostoon."
   ]
  },
  {
   "cell_type": "code",
   "execution_count": 3,
   "id": "2c69ef95",
   "metadata": {
    "scrolled": true
   },
   "outputs": [
    {
     "name": "stderr",
     "output_type": "stream",
     "text": [
      "[*********************100%%**********************]  1 of 1 completed\n"
     ]
    },
    {
     "data": {
      "text/html": [
       "<div>\n",
       "<style scoped>\n",
       "    .dataframe tbody tr th:only-of-type {\n",
       "        vertical-align: middle;\n",
       "    }\n",
       "\n",
       "    .dataframe tbody tr th {\n",
       "        vertical-align: top;\n",
       "    }\n",
       "\n",
       "    .dataframe thead th {\n",
       "        text-align: right;\n",
       "    }\n",
       "</style>\n",
       "<table border=\"1\" class=\"dataframe\">\n",
       "  <thead>\n",
       "    <tr style=\"text-align: right;\">\n",
       "      <th></th>\n",
       "      <th>Open</th>\n",
       "      <th>High</th>\n",
       "      <th>Low</th>\n",
       "      <th>Close</th>\n",
       "      <th>Adj Close</th>\n",
       "      <th>Volume</th>\n",
       "    </tr>\n",
       "    <tr>\n",
       "      <th>Date</th>\n",
       "      <th></th>\n",
       "      <th></th>\n",
       "      <th></th>\n",
       "      <th></th>\n",
       "      <th></th>\n",
       "      <th></th>\n",
       "    </tr>\n",
       "  </thead>\n",
       "  <tbody>\n",
       "    <tr>\n",
       "      <th>2020-01-02</th>\n",
       "      <td>49.250000</td>\n",
       "      <td>49.520000</td>\n",
       "      <td>49.160000</td>\n",
       "      <td>49.279999</td>\n",
       "      <td>42.545937</td>\n",
       "      <td>194976</td>\n",
       "    </tr>\n",
       "    <tr>\n",
       "      <th>2020-01-03</th>\n",
       "      <td>49.400002</td>\n",
       "      <td>50.040001</td>\n",
       "      <td>49.290001</td>\n",
       "      <td>49.779999</td>\n",
       "      <td>42.977615</td>\n",
       "      <td>335732</td>\n",
       "    </tr>\n",
       "    <tr>\n",
       "      <th>2020-01-07</th>\n",
       "      <td>49.880001</td>\n",
       "      <td>50.299999</td>\n",
       "      <td>49.450001</td>\n",
       "      <td>49.639999</td>\n",
       "      <td>42.856747</td>\n",
       "      <td>452005</td>\n",
       "    </tr>\n",
       "    <tr>\n",
       "      <th>2020-01-08</th>\n",
       "      <td>49.500000</td>\n",
       "      <td>49.630001</td>\n",
       "      <td>49.160000</td>\n",
       "      <td>49.310001</td>\n",
       "      <td>42.571842</td>\n",
       "      <td>365059</td>\n",
       "    </tr>\n",
       "    <tr>\n",
       "      <th>2020-01-09</th>\n",
       "      <td>49.430000</td>\n",
       "      <td>49.930000</td>\n",
       "      <td>49.419998</td>\n",
       "      <td>49.680000</td>\n",
       "      <td>42.891285</td>\n",
       "      <td>622106</td>\n",
       "    </tr>\n",
       "    <tr>\n",
       "      <th>...</th>\n",
       "      <td>...</td>\n",
       "      <td>...</td>\n",
       "      <td>...</td>\n",
       "      <td>...</td>\n",
       "      <td>...</td>\n",
       "      <td>...</td>\n",
       "    </tr>\n",
       "    <tr>\n",
       "      <th>2024-03-28</th>\n",
       "      <td>41.540001</td>\n",
       "      <td>41.759998</td>\n",
       "      <td>41.180000</td>\n",
       "      <td>41.349998</td>\n",
       "      <td>41.349998</td>\n",
       "      <td>469291</td>\n",
       "    </tr>\n",
       "    <tr>\n",
       "      <th>2024-04-02</th>\n",
       "      <td>41.360001</td>\n",
       "      <td>42.139999</td>\n",
       "      <td>41.259998</td>\n",
       "      <td>41.480000</td>\n",
       "      <td>41.480000</td>\n",
       "      <td>479938</td>\n",
       "    </tr>\n",
       "    <tr>\n",
       "      <th>2024-04-03</th>\n",
       "      <td>41.400002</td>\n",
       "      <td>41.740002</td>\n",
       "      <td>41.320000</td>\n",
       "      <td>41.599998</td>\n",
       "      <td>41.599998</td>\n",
       "      <td>287268</td>\n",
       "    </tr>\n",
       "    <tr>\n",
       "      <th>2024-04-04</th>\n",
       "      <td>42.200001</td>\n",
       "      <td>42.540001</td>\n",
       "      <td>42.000000</td>\n",
       "      <td>42.400002</td>\n",
       "      <td>42.400002</td>\n",
       "      <td>372618</td>\n",
       "    </tr>\n",
       "    <tr>\n",
       "      <th>2024-04-05</th>\n",
       "      <td>42.259998</td>\n",
       "      <td>43.160000</td>\n",
       "      <td>42.240002</td>\n",
       "      <td>43.060001</td>\n",
       "      <td>43.060001</td>\n",
       "      <td>462872</td>\n",
       "    </tr>\n",
       "  </tbody>\n",
       "</table>\n",
       "<p>1075 rows × 6 columns</p>\n",
       "</div>"
      ],
      "text/plain": [
       "                 Open       High        Low      Close  Adj Close  Volume\n",
       "Date                                                                     \n",
       "2020-01-02  49.250000  49.520000  49.160000  49.279999  42.545937  194976\n",
       "2020-01-03  49.400002  50.040001  49.290001  49.779999  42.977615  335732\n",
       "2020-01-07  49.880001  50.299999  49.450001  49.639999  42.856747  452005\n",
       "2020-01-08  49.500000  49.630001  49.160000  49.310001  42.571842  365059\n",
       "2020-01-09  49.430000  49.930000  49.419998  49.680000  42.891285  622106\n",
       "...               ...        ...        ...        ...        ...     ...\n",
       "2024-03-28  41.540001  41.759998  41.180000  41.349998  41.349998  469291\n",
       "2024-04-02  41.360001  42.139999  41.259998  41.480000  41.480000  479938\n",
       "2024-04-03  41.400002  41.740002  41.320000  41.599998  41.599998  287268\n",
       "2024-04-04  42.200001  42.540001  42.000000  42.400002  42.400002  372618\n",
       "2024-04-05  42.259998  43.160000  42.240002  43.060001  43.060001  462872\n",
       "\n",
       "[1075 rows x 6 columns]"
      ]
     },
     "execution_count": 3,
     "metadata": {},
     "output_type": "execute_result"
    }
   ],
   "source": [
    "\n",
    "import yfinance as yf\n",
    "\n",
    "### Elisan osakkeen historiatietojen haku vuoden 2020 alusta\n",
    "\n",
    "elisa = yf.download('ELISA.HE', start='2020-1-1')\n",
    "\n",
    "# Tallennetaan tiedot data-kansioon elisa.xlsx-tiedostoon\n",
    "\n",
    "elisa.to_excel('pyex/output/elisa.xlsx')\n",
    "\n",
    "# Katsotaan aineiston alku- ja loppupää\n",
    "\n",
    "elisa"
   ]
  },
  {
   "cell_type": "markdown",
   "id": "184157a8-1bd7-4927-aeb8-4be638f550ca",
   "metadata": {},
   "source": [
    "Tiedosto *elisa.xlsx* löytyy nyt hakemiston *pyex* alihakemistosta *output* (olettaen, että pyex-hakemisto on asennettu oletushakemistoon)."
   ]
  },
  {
   "cell_type": "markdown",
   "id": "7cb6ca7e",
   "metadata": {},
   "source": [
    "Lisätietoa:\n",
    "* https://pypi.org/project/yfinance/\n",
    "* https://pandas.pydata.org/docs/reference/api/pandas.DataFrame.to_excel.html"
   ]
  },
  {
   "cell_type": "markdown",
   "id": "3e4d5fdb",
   "metadata": {},
   "source": [
    "## XlsxWriter"
   ]
  },
  {
   "cell_type": "markdown",
   "id": "51bf14a5",
   "metadata": {},
   "source": [
    "**XlsxWriter** on monipuolinen kirjasto Excel-tiedostojen luontiin. Sen toiminnot on selkeästi dokumentoitu osoitteessa https://xlsxwriter.readthedocs.io/. Alkuun pääsee hyvin sivuston artikkeleiden *Getting started with XlsxWriter* ja *Working with Pandas and XlsxWriter* esimerkkien kautta."
   ]
  },
  {
   "cell_type": "markdown",
   "id": "1ebe97d0",
   "metadata": {},
   "source": [
    "On hyvä huomioida, että XlsxWriterilla ei voi avata olemassa olevaa Excel-tiedostoa editoitavaksi."
   ]
  },
  {
   "cell_type": "markdown",
   "id": "f7a44c24-2434-4316-9018-1b53eeb092ff",
   "metadata": {},
   "source": [
    "Itse asiassa edellä mainittu funktio *to_excel* käyttää xlsxwriteria Excel-tiedoston kirjoittamisessa."
   ]
  },
  {
   "cell_type": "markdown",
   "id": "c47e3304",
   "metadata": {},
   "source": [
    "Jos halutaan kirjoittaa samaan Excel-tiedostoon useampia tietokehyksiä tai lisätä muotoiluja, niin tarvitaan **ExcelWriter**-olio. Seuraava koodi hakee Yahoo Finance -sivustolta sekä Elisan kurssihistorian että OMXH25-osakeindeksin historian ja kirjoittaa molemmat omille taulukkovälilehdilleen output/elisa_ja_omxh25.xlsx-tiedostoon."
   ]
  },
  {
   "cell_type": "code",
   "execution_count": 4,
   "id": "88c24515",
   "metadata": {},
   "outputs": [
    {
     "name": "stderr",
     "output_type": "stream",
     "text": [
      "[*********************100%%**********************]  1 of 1 completed\n",
      "[*********************100%%**********************]  1 of 1 completed\n"
     ]
    }
   ],
   "source": [
    "\n",
    "# Haetaan historiatiedot Yahoo Finance -sivustolta\n",
    "\n",
    "elisa = yf.download('ELISA.HE', start='2020-1-1')\n",
    "omxh25 = yf.download('^OMXH25', start='2020-1-1')\n",
    "\n",
    "# Luodaan ExcelWriter-olio\n",
    "\n",
    "writer = pd.ExcelWriter('pyex/output/elisa_ja_omxh25.xlsx', engine='xlsxwriter')\n",
    "\n",
    "# Käytetään ExcelWriter-oliota tiedon kirjoittamiseen\n",
    "\n",
    "elisa.to_excel(excel_writer=writer, sheet_name='elisa')\n",
    "omxh25.to_excel(excel_writer=writer, sheet_name='omxh25')\n",
    "\n",
    "# Kirjoitetaan tiedot levylle ja suljetaan tiedosto\n",
    "writer.close()"
   ]
  },
  {
   "cell_type": "markdown",
   "id": "63882fee-dd78-4768-bb74-b688501a8e7d",
   "metadata": {},
   "source": [
    "Edellä olevassa koodissa ExcelWriter-olio oli oleellinen, koska kirjoitettiin useammalle välilehdelle. Myös tiedoston sulkeminen lopuksi on tärkeä. Jos solun suoritus jostain syystä keskeytyy ennen tiedoston sulkemista, sulkeminen kannattaa tehdä erikseen omassa solussaan."
   ]
  },
  {
   "cell_type": "markdown",
   "id": "a6e8b1c0",
   "metadata": {},
   "source": [
    "Materiaalipaketin **pika2.ipynb**-muistion koodi automatisoi datan perusanalyysit. Koodi laskee datasta frekvenssitaulukot, ristiintaulukoinnit, tilastolliset tunnusluvut ja korrelaatiot. Tulokset kirjoitetaan ja muotoillaan Exceliin käyttäen hyväksi XlsxWriterin toimintoja. Tutustu, millä eri tavoin toimintoja on hyödynnetty."
   ]
  },
  {
   "cell_type": "markdown",
   "id": "8e44b303",
   "metadata": {},
   "source": [
    "## OpenPyXL"
   ]
  },
  {
   "cell_type": "markdown",
   "id": "72d3d593",
   "metadata": {},
   "source": [
    "**OpenPyXL**-kirjaston toiminnoilla voi avata olemassa olevan Excel-tiedoston editoitavaksi. Myös pandas-kirjaston read_excel-funktio käyttää OpenPyXL-kirjastoa oletuksena Excel-tiedoston avaamiseen. Lisätietoa löytyy osoitteesta https://openpyxl.readthedocs.io/en/stable/."
   ]
  },
  {
   "cell_type": "markdown",
   "id": "c8b16dc0",
   "metadata": {},
   "source": [
    "## Pathlib.Path"
   ]
  },
  {
   "cell_type": "markdown",
   "id": "9be0ea25",
   "metadata": {},
   "source": [
    "Tiedostojen käyttöä automatisoitaessa täytyy hallita tiedostopolkujen käyttö Pythonista käsin. Tähän voi käyttää **Path**-kirjastoa, jonka voit tuoda komennolla \n",
    "\n",
    "$$\\textrm{from pathlib import Path}.$$ \n",
    "\n",
    "Path-kirjastoa käyttämällä pystyy välttämään ongelmat, jotka liittyvät eri käyttöjärjestelmien eroihin kauttaviivojen ( / ) ja kenoviivojen ( \\ ) käytössä."
   ]
  },
  {
   "cell_type": "markdown",
   "id": "74410e71",
   "metadata": {},
   "source": [
    "Koko tiedostopolkua ei tarvitse yleensä itse kirjoittaa; kokeile esimerkiksi komentoja:\n",
    "\n",
    "* **print(Path.cwd())** (cwd = current working directory)\n",
    "* **print(Path.cwd().resolve().parent)** (polku emokansioon)\n",
    "* **print(Path.home())** (polku käyttäjän kotikansioon).\n"
   ]
  },
  {
   "cell_type": "markdown",
   "id": "c877b662-9b1b-40ac-b914-1e2c87866928",
   "metadata": {},
   "source": [
    "Testataan edellä olevia komentoja."
   ]
  },
  {
   "cell_type": "code",
   "execution_count": 5,
   "id": "9036e1ac-6576-4a8d-8f42-02424ed62eaa",
   "metadata": {},
   "outputs": [],
   "source": [
    "### Tuodaan Path-kirjasto\n",
    "\n",
    "from pathlib import Path"
   ]
  },
  {
   "cell_type": "code",
   "execution_count": 6,
   "id": "c8e1804d-6ccf-45b9-9040-54275c7809f7",
   "metadata": {},
   "outputs": [
    {
     "name": "stdout",
     "output_type": "stream",
     "text": [
      "C:\\Users\\nurju\n"
     ]
    }
   ],
   "source": [
    "print(Path.cwd())"
   ]
  },
  {
   "cell_type": "code",
   "execution_count": 7,
   "id": "a7a0f384-bc7a-4b81-ad17-0b109ef14a0a",
   "metadata": {},
   "outputs": [
    {
     "name": "stdout",
     "output_type": "stream",
     "text": [
      "C:\\Users\n"
     ]
    }
   ],
   "source": [
    "print(Path.cwd().resolve().parent)"
   ]
  },
  {
   "cell_type": "code",
   "execution_count": 8,
   "id": "bcc99d80-5a4e-4251-9612-0f8309f2a771",
   "metadata": {},
   "outputs": [
    {
     "name": "stdout",
     "output_type": "stream",
     "text": [
      "C:\\Users\\nurju\n"
     ]
    }
   ],
   "source": [
    "print(Path.home())"
   ]
  },
  {
   "cell_type": "markdown",
   "id": "eea03c1f",
   "metadata": {},
   "source": [
    "Tehtävissä pääsee harjoittelemaan Path-kirjaston hyödyntämistä."
   ]
  },
  {
   "cell_type": "markdown",
   "id": "837eba70",
   "metadata": {},
   "source": [
    "<u>Lähde ja lisämateriaalia</u>: \n",
    "Aki Taanila: Data-analytiikka Pythonilla, https://tilastoapu.wordpress.com/python/."
   ]
  },
  {
   "cell_type": "code",
   "execution_count": 9,
   "id": "99ff82b6",
   "metadata": {},
   "outputs": [
    {
     "name": "stdout",
     "output_type": "stream",
     "text": [
      "Viimeksi muokattu 2024-04-06 15:35, Juha Nurmonen\n"
     ]
    }
   ],
   "source": [
    "import datetime\n",
    "print(f'Viimeksi muokattu {datetime.datetime.now():%Y-%m-%d %H:%M}, Juha Nurmonen')"
   ]
  }
 ],
 "metadata": {
  "kernelspec": {
   "display_name": "Python 3 (ipykernel)",
   "language": "python",
   "name": "python3"
  },
  "language_info": {
   "codemirror_mode": {
    "name": "ipython",
    "version": 3
   },
   "file_extension": ".py",
   "mimetype": "text/x-python",
   "name": "python",
   "nbconvert_exporter": "python",
   "pygments_lexer": "ipython3",
   "version": "3.11.5"
  }
 },
 "nbformat": 4,
 "nbformat_minor": 5
}
