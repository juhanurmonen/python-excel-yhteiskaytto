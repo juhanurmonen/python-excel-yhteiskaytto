{
 "cells": [
  {
   "cell_type": "markdown",
   "id": "9ff17cb7",
   "metadata": {},
   "source": [
    "# Harjoitus: Koonti useista Excel-tiedostoista"
   ]
  },
  {
   "cell_type": "markdown",
   "id": "b8a05c17",
   "metadata": {},
   "source": [
    "Näissä tehtävissä opitaan käyttämään polkuja (Path), käymään läpi polun kaikki tietyn tyyppiset tiedostot, tekemään yhteenvedon pivot-taulukkona ja käyttämään ExcelWriter-oliota."
   ]
  },
  {
   "cell_type": "markdown",
   "id": "15b16247",
   "metadata": {},
   "source": [
    "Seuraavassa koodissa yhdistetään kurssimateriaalin sales_data-kansion eri tiedostoissa olevat kuukausittaiset tiedot yhteen vuosittain.xlsx-tiedostoon."
   ]
  },
  {
   "cell_type": "code",
   "execution_count": 1,
   "id": "26582be0",
   "metadata": {},
   "outputs": [],
   "source": [
    "import pandas as pd\n",
    "from pathlib import Path"
   ]
  },
  {
   "cell_type": "code",
   "execution_count": 2,
   "id": "f1f9301a",
   "metadata": {},
   "outputs": [],
   "source": [
    "# Kansion määritys ( cwd()=current working directory )\n",
    "kansio = Path.cwd()/'pyex/sales_data'\n",
    "\n",
    "# Kerätään listaan tiedostojen sisällöt\n",
    "# glob sijasta voi käyttää rglob, jolloin myös mahdolliset alakansiot huomioidaan\n",
    "kuukaudet = []\n",
    "for tiedosto in list(kansio.glob('*.xlsx')):\n",
    "    kuukausi = pd.read_excel(tiedosto)\n",
    "    kuukaudet.append(kuukausi)\n",
    "    \n",
    "# Yhdistetään tiedot tietokehykseksi\n",
    "df = pd.concat(kuukaudet)\n",
    "\n",
    "# Luodaan kansio\n",
    "kohde_kansio = Path(kansio)/'vuosittain'\n",
    "kohde_kansio.mkdir(exist_ok=True)\n",
    "\n",
    "# Kirjoitetaan koonti Excel-tiedostoon\n",
    "df.to_excel(kohde_kansio/'vuosittain.xlsx', index=False)"
   ]
  },
  {
   "cell_type": "markdown",
   "id": "1945aa24",
   "metadata": {},
   "source": [
    "Tämän tyyppinen tiedostojen kokoaminen yhteen tiedostoon on yksi yleisimmistä automatisoinnin kohteista Excelissä. Koodin suoritus kestää jonkin aikaa, koska yhdistettävät tiedostot ovat melko isoja."
   ]
  },
  {
   "cell_type": "markdown",
   "id": "bcef1385",
   "metadata": {},
   "source": [
    "Muuta ja täydennä koodia niin, että:\n",
    "* Koodissa luodaan ExcelWriter-olio\n",
    "* ExcelWriter-oliolla kirjoitetaan vuosittain.xlsx-tiedostoon __df__ omalle taulukkovälilehdelleen\n",
    "* ExcelWriter-oliolla kirjoitetaan masterfile.xlsx-tiedostoon kuukausittaiset kokonaismyynnit (amount) myymälöittäin (store) omalle taulukkovälilehdelleen.\n",
    "\n",
    "ExcelWriterin käyttöön löytyy esimerkkejä kurssimateriaalin muistioista **Python_ja_Excel-tiedostot.ipynb** ja **pika2.ipynb**."
   ]
  },
  {
   "cell_type": "markdown",
   "id": "fd2c9c99",
   "metadata": {},
   "source": [
    "Yhteenvedon (pivot-taulukko) laskemiseen kannattaa käyttää pandas-kirjaston pivot_table-funktiota sopivilla parametrien (values, index, columns ja aggfunc) arvoilla. Päivämäärät ('transaction_date') on syytä laittaa indeksiin. Katso https://pandas.pydata.org/docs/reference/api/pandas.DataFrame.pivot_table.html."
   ]
  },
  {
   "cell_type": "markdown",
   "id": "40305ba8",
   "metadata": {},
   "source": [
    "Pivot-taulukon päiväkohtaiset myynnit voit aggregoida kuukausikohtaisiksi resample-funktiolla. Jos pivot-taulukko on nimetty pivot-nimiseksi, niin aggregointi sujuu seuraavasti: **pivot.resample(’M’).sum()**."
   ]
  },
  {
   "cell_type": "code",
   "execution_count": 3,
   "id": "059c7955",
   "metadata": {},
   "outputs": [
    {
     "name": "stdout",
     "output_type": "stream",
     "text": [
      "Viimeksi muokattu 2024-03-27 16:42, Juha Nurmonen\n"
     ]
    }
   ],
   "source": [
    "import datetime\n",
    "print(f'Viimeksi muokattu {datetime.datetime.now():%Y-%m-%d %H:%M}, Juha Nurmonen')"
   ]
  }
 ],
 "metadata": {
  "kernelspec": {
   "display_name": "Python 3 (ipykernel)",
   "language": "python",
   "name": "python3"
  },
  "language_info": {
   "codemirror_mode": {
    "name": "ipython",
    "version": 3
   },
   "file_extension": ".py",
   "mimetype": "text/x-python",
   "name": "python",
   "nbconvert_exporter": "python",
   "pygments_lexer": "ipython3",
   "version": "3.10.13"
  }
 },
 "nbformat": 4,
 "nbformat_minor": 5
}
