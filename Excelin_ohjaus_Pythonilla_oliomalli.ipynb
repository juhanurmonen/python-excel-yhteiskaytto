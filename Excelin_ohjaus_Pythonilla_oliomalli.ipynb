{
 "cells": [
  {
   "cell_type": "markdown",
   "id": "746b9c0d",
   "metadata": {},
   "source": [
    "# Excelin ohjaus Pythonilla"
   ]
  },
  {
   "cell_type": "markdown",
   "id": "37aab46b",
   "metadata": {},
   "source": [
    "Exceliä ohjataan Pythonista käsin **xlwings**-kirjastoa käyttäen. Annetaan kirjastolle vakiintuneen tavan mukaisesti lempinimi **xw**."
   ]
  },
  {
   "cell_type": "code",
   "execution_count": 1,
   "id": "b34b53ac",
   "metadata": {},
   "outputs": [],
   "source": [
    "import pandas as pd\n",
    "import xlwings as xw"
   ]
  },
  {
   "cell_type": "markdown",
   "id": "8c9feffb",
   "metadata": {},
   "source": [
    "## Excelin oliomalli"
   ]
  },
  {
   "cell_type": "markdown",
   "id": "5cdd9c61",
   "metadata": {},
   "source": [
    "Excel-ohjelmoinnin aluksi täytyy sisäistää Excelin oliomallin keskeisimmät osat. Excelin oliomallissa oliot ovat hierarkisesti järjestyneet (suluissa xlwings-kirjaston käyttämät nimet):\n",
    "\n",
    "* Hierarkiassa ylimpänä on Applications (**apps**)-kokoelma, joka sisältää yksittäiset avoinna olevat Excel-instanssit.\n",
    "* Excel-instanssi sisältää Workbooks (**books**)-kokoelman, joka sisältää Excel-instanssin avoimet työkirjat.\n",
    "* Työkirja sisältää Worksheets (**sheets**)-kokoelman, joka sisältää työkirjan taulukkovälilehdet.\n",
    "* Taulukkovälilehti sisältää solualueita (**range**)."
   ]
  },
  {
   "cell_type": "markdown",
   "id": "c9f7d9f8",
   "metadata": {},
   "source": [
    "## Uuden Excel-instanssin luominen"
   ]
  },
  {
   "cell_type": "markdown",
   "id": "5f501544",
   "metadata": {},
   "source": [
    "Uuden Excel-instanssin voi luoda xlwingsin App-luokan oliona:"
   ]
  },
  {
   "cell_type": "code",
   "execution_count": 2,
   "id": "725d07dc",
   "metadata": {},
   "outputs": [],
   "source": [
    "# Luodaan uusi Excel-instanssi\n",
    "app = xw.App(visible=False)"
   ]
  },
  {
   "cell_type": "markdown",
   "id": "1292fcbf",
   "metadata": {},
   "source": [
    "Jos instanssi on näkyvillä ja käyttäjä menee vahingossa sorkkimaan sitä kesken tietojen kirjoituksen, niin ohjelma voi kaatua virheilmoitukseen. Excel-instanssi kannattaa tämän vuoksi luoda näkymättömänä (visible=False) ja tuoda se näkyviin vasta sen jälkeen, kun kaikki tiedot on kirjoitettu. Kokeilu- ja testausvaiheessa Excel-instanssi kannattaa kuitenkin pitää näkyvänä (visible=True), jotta komentojen vaikutuksia pystyy seuraamaan."
   ]
  },
  {
   "cell_type": "markdown",
   "id": "85ec8d24",
   "metadata": {},
   "source": [
    "## Työkirjat"
   ]
  },
  {
   "cell_type": "markdown",
   "id": "08f647d8",
   "metadata": {},
   "source": [
    "Uuden Excel-instanssin myötä syntyy työkirja. Seuraava komento nimeää työkirjan wb1-nimiseksi. Tämä ei tarkoita tallennusnimeä, vaan nimeä, jolla koodissa työkirjaan pystyy viittaamaan:"
   ]
  },
  {
   "cell_type": "code",
   "execution_count": 3,
   "id": "9a39ed8a",
   "metadata": {},
   "outputs": [],
   "source": [
    "# Excel-instanssin myötä syntyi myös työkirja, jolle annetaan tässä nimi wb1\n",
    "wb1 = app.books[0]"
   ]
  },
  {
   "cell_type": "markdown",
   "id": "67c3b869",
   "metadata": {},
   "source": [
    "Täysin uuden työkirjan saa aikaiseksi luomalla uuden Book-luokan olion:"
   ]
  },
  {
   "cell_type": "code",
   "execution_count": 4,
   "id": "b513d272",
   "metadata": {},
   "outputs": [],
   "source": [
    "# Luodaan toinen työkirja\n",
    "wb2 = xw.Book()"
   ]
  },
  {
   "cell_type": "markdown",
   "id": "825147dd",
   "metadata": {},
   "source": [
    "## Taulukkovälilehdet"
   ]
  },
  {
   "cell_type": "markdown",
   "id": "0aeed4b9",
   "metadata": {},
   "source": [
    "Työkirjan taulukkovälilehtiin pystyy viittaamaan sheets-kokoelman kautta. Tässä käytetään Pythonista tuttua indeksointia, joka alkaa nollasta:"
   ]
  },
  {
   "cell_type": "code",
   "execution_count": 5,
   "id": "9bbb0964",
   "metadata": {},
   "outputs": [],
   "source": [
    "# Näillä nimillä voidaan viitata työkirjojen taulukkovälilehtiin\n",
    "wb1_ws1 = wb1.sheets[0]\n",
    "wb2_ws1 = wb2.sheets[0]"
   ]
  },
  {
   "cell_type": "markdown",
   "id": "f457ef50",
   "metadata": {},
   "source": [
    "Edellä olevan perusteella koodissa voi myöhemmin viitata taulukkovälilehtiin nimillä wb1_ws1 ja wb2_ws1. Nämä eivät kuitenkaan ole Excelissä taulukkovälilehtien nimiä, vaan nimiä, joilla koodissa viitataan taulukkovälilehtiin.\n",
    "\n",
    "Täysin uuden taulukkovälilehden voi luoda **sheets**-kokoelman **add**-funktiolla:"
   ]
  },
  {
   "cell_type": "code",
   "execution_count": 6,
   "id": "84100467",
   "metadata": {},
   "outputs": [],
   "source": [
    "# Lisätään uusi taulukkovälilehti\n",
    "wb2_ws2 = wb2.sheets.add(name='toinen', after=wb2.sheets.count)"
   ]
  },
  {
   "cell_type": "markdown",
   "id": "bb04ac33",
   "metadata": {},
   "source": [
    "wb2_ws2 on nimi, jolla välilehteen voi Python-koodissa viitata ja name-parametrin arvo ’toinen’ on taulukkovälilehden nimi Excelissä. Yllä taulukkovälilehti lisätään after-parametrin arvon ansiosta oikealle viimeiseksi taulukkovälilehdeksi."
   ]
  },
  {
   "cell_type": "markdown",
   "id": "dfc6ca2d",
   "metadata": {},
   "source": [
    "## Solut"
   ]
  },
  {
   "cell_type": "markdown",
   "id": "e2583580",
   "metadata": {},
   "source": [
    "Tiedon kirjoittaminen soluun onnistuu **range**-kokoelman **value**-ominaisuuden avulla:"
   ]
  },
  {
   "cell_type": "code",
   "execution_count": 7,
   "id": "16a788e4",
   "metadata": {},
   "outputs": [],
   "source": [
    "# Kirjoitetaan soluihin\n",
    "wb1_ws1.range('B3').value = 'x'\n",
    "wb1_ws1.range('C3').value = 'y'"
   ]
  },
  {
   "cell_type": "markdown",
   "id": "5c600308",
   "metadata": {},
   "source": [
    "Excel-tyylinen soluviittaus (esim. ’C3’) ei kaikissa tapauksissa sovi tilanteeseen. Esimerkiksi seuraavassa for-silmukassa täytyy käyttää toisenlaista viittaustapaa (rivin ja sarakkeen numero sulkujen sisällä):"
   ]
  },
  {
   "cell_type": "code",
   "execution_count": 8,
   "id": "1d8ea9cb",
   "metadata": {},
   "outputs": [],
   "source": [
    "# Kirjoitetaan soluihin\n",
    "for i in range(10):\n",
    "    wb1_ws1.range((i+4, 2)).value = i\n",
    "    wb1_ws1.range((i+4, 3)).value = f'=exp(B{i+4})'"
   ]
  },
  {
   "cell_type": "markdown",
   "id": "1495833f",
   "metadata": {},
   "source": [
    "Katso esimerkkejä erilaisista viittaustavoista solualueeseen: https://docs.xlwings.org/en/latest/api/range.html"
   ]
  },
  {
   "cell_type": "markdown",
   "id": "b80090de",
   "metadata": {},
   "source": [
    "Myös solualueen lukeminen onnistuu value-ominaisuuden avulla (**expand**-funktio laajentaa valinnan solua B3 ympäröiviin soluihin, jotka eivät ole tyhjiä):"
   ]
  },
  {
   "cell_type": "code",
   "execution_count": 9,
   "id": "30ad27f5",
   "metadata": {},
   "outputs": [
    {
     "data": {
      "text/plain": [
       "[['x', 'y'],\n",
       " [0.0, 1.0],\n",
       " [1.0, 2.718281828459045],\n",
       " [2.0, 7.38905609893065],\n",
       " [3.0, 20.085536923187668],\n",
       " [4.0, 54.598150033144236],\n",
       " [5.0, 148.4131591025766],\n",
       " [6.0, 403.4287934927351],\n",
       " [7.0, 1096.6331584284585],\n",
       " [8.0, 2980.9579870417283],\n",
       " [9.0, 8103.083927575384]]"
      ]
     },
     "execution_count": 9,
     "metadata": {},
     "output_type": "execute_result"
    }
   ],
   "source": [
    "# Luetaan data Excelistä Pythoniin\n",
    "data = wb1_ws1.range('B3').expand().value\n",
    "data"
   ]
  },
  {
   "cell_type": "markdown",
   "id": "53c2a110",
   "metadata": {},
   "source": [
    "Jos halutaan lukea solualue tietokehykseksi, voidaan käyttää **options**-lisäasetuksia:"
   ]
  },
  {
   "cell_type": "code",
   "execution_count": 10,
   "id": "4c176782",
   "metadata": {
    "scrolled": true
   },
   "outputs": [
    {
     "data": {
      "text/html": [
       "<div>\n",
       "<style scoped>\n",
       "    .dataframe tbody tr th:only-of-type {\n",
       "        vertical-align: middle;\n",
       "    }\n",
       "\n",
       "    .dataframe tbody tr th {\n",
       "        vertical-align: top;\n",
       "    }\n",
       "\n",
       "    .dataframe thead th {\n",
       "        text-align: right;\n",
       "    }\n",
       "</style>\n",
       "<table border=\"1\" class=\"dataframe\">\n",
       "  <thead>\n",
       "    <tr style=\"text-align: right;\">\n",
       "      <th></th>\n",
       "      <th>x</th>\n",
       "      <th>y</th>\n",
       "    </tr>\n",
       "  </thead>\n",
       "  <tbody>\n",
       "    <tr>\n",
       "      <th>0</th>\n",
       "      <td>0.0</td>\n",
       "      <td>1.000000</td>\n",
       "    </tr>\n",
       "    <tr>\n",
       "      <th>1</th>\n",
       "      <td>1.0</td>\n",
       "      <td>2.718282</td>\n",
       "    </tr>\n",
       "    <tr>\n",
       "      <th>2</th>\n",
       "      <td>2.0</td>\n",
       "      <td>7.389056</td>\n",
       "    </tr>\n",
       "    <tr>\n",
       "      <th>3</th>\n",
       "      <td>3.0</td>\n",
       "      <td>20.085537</td>\n",
       "    </tr>\n",
       "    <tr>\n",
       "      <th>4</th>\n",
       "      <td>4.0</td>\n",
       "      <td>54.598150</td>\n",
       "    </tr>\n",
       "    <tr>\n",
       "      <th>5</th>\n",
       "      <td>5.0</td>\n",
       "      <td>148.413159</td>\n",
       "    </tr>\n",
       "    <tr>\n",
       "      <th>6</th>\n",
       "      <td>6.0</td>\n",
       "      <td>403.428793</td>\n",
       "    </tr>\n",
       "    <tr>\n",
       "      <th>7</th>\n",
       "      <td>7.0</td>\n",
       "      <td>1096.633158</td>\n",
       "    </tr>\n",
       "    <tr>\n",
       "      <th>8</th>\n",
       "      <td>8.0</td>\n",
       "      <td>2980.957987</td>\n",
       "    </tr>\n",
       "    <tr>\n",
       "      <th>9</th>\n",
       "      <td>9.0</td>\n",
       "      <td>8103.083928</td>\n",
       "    </tr>\n",
       "  </tbody>\n",
       "</table>\n",
       "</div>"
      ],
      "text/plain": [
       "     x            y\n",
       "0  0.0     1.000000\n",
       "1  1.0     2.718282\n",
       "2  2.0     7.389056\n",
       "3  3.0    20.085537\n",
       "4  4.0    54.598150\n",
       "5  5.0   148.413159\n",
       "6  6.0   403.428793\n",
       "7  7.0  1096.633158\n",
       "8  8.0  2980.957987\n",
       "9  9.0  8103.083928"
      ]
     },
     "execution_count": 10,
     "metadata": {},
     "output_type": "execute_result"
    }
   ],
   "source": [
    "# Luetaan data pandas-dataframeen\n",
    "# Oletusarvona vasemmanpuoleisesta sarakkeesta tulee indeksi\n",
    "df = wb1_ws1.range('B3').expand().options(pd.DataFrame, index=False).value\n",
    "df"
   ]
  },
  {
   "cell_type": "markdown",
   "id": "79df7c33",
   "metadata": {},
   "source": [
    "Lisätietoa lisäasetuksista https://docs.xlwings.org/en/latest/converters.html"
   ]
  },
  {
   "cell_type": "markdown",
   "id": "5e2cde53",
   "metadata": {},
   "source": [
    "## Tallennus ja Excel-instannin sulkeminen"
   ]
  },
  {
   "cell_type": "markdown",
   "id": "e40e7e1b",
   "metadata": {},
   "source": [
    "Työkirjan voin tallentaa **save**-funktiolla:"
   ]
  },
  {
   "cell_type": "code",
   "execution_count": 11,
   "id": "b1b19ee3",
   "metadata": {},
   "outputs": [],
   "source": [
    "# Työkirjan tallennus\n",
    "wb1.save('pyex/output/excel1.xlsx')"
   ]
  },
  {
   "cell_type": "markdown",
   "id": "17ec85b7",
   "metadata": {},
   "source": [
    "Sen jälkeen, kun kaikki tiedot on kirjoitettu niin Excel-instanssin voi tuoda näkyville:"
   ]
  },
  {
   "cell_type": "code",
   "execution_count": 12,
   "id": "0e193620",
   "metadata": {},
   "outputs": [],
   "source": [
    "app.visible = True"
   ]
  },
  {
   "cell_type": "markdown",
   "id": "cdc47e9c",
   "metadata": {},
   "source": [
    "Jos Excel-instanssia ei ole tarvetta jättää auki, niin sen voi sulkea komennolla"
   ]
  },
  {
   "cell_type": "code",
   "execution_count": 13,
   "id": "17d81e39",
   "metadata": {},
   "outputs": [],
   "source": [
    "# Excel-instanssin sulkeminen\n",
    "app.quit()"
   ]
  },
  {
   "cell_type": "markdown",
   "id": "8707c5c8",
   "metadata": {},
   "source": [
    "Jos haluat sulkea kaikki avoimet Excelit ilman tallennusta, niin voit käyttää for-silmukkaa:"
   ]
  },
  {
   "cell_type": "code",
   "execution_count": 14,
   "id": "554d1527",
   "metadata": {},
   "outputs": [],
   "source": [
    "# Jos haluat sulkea ilman tallennusta kaikki avoinna olevat Excelit (myös piilotetut), niin voit käyttää for-silmukkaa:\n",
    "# Näin pääsee kerralla eroon kaikista Excel-instansseista.\n",
    "\n",
    "#for app in xw.apps:\n",
    "#    app.quit()"
   ]
  },
  {
   "cell_type": "markdown",
   "id": "6510a8ab",
   "metadata": {},
   "source": [
    "Lisätietoa käytetyistä ja muista mahdollisista toiminnoista löydät xlwingsin Python **API**sta (API=ohjelmointirajapinta): https://docs.xlwings.org/en/latest/api/index.html."
   ]
  },
  {
   "cell_type": "markdown",
   "id": "9cb21660",
   "metadata": {},
   "source": [
    "Tehtävissä harjoitellaan Excelin ohjausta Pythonilla."
   ]
  },
  {
   "cell_type": "code",
   "execution_count": 15,
   "id": "0dfb9f51",
   "metadata": {},
   "outputs": [
    {
     "name": "stdout",
     "output_type": "stream",
     "text": [
      "Viimeksi muokattu 2024-04-02 19:44, Juha Nurmonen\n"
     ]
    }
   ],
   "source": [
    "import datetime\n",
    "print(f'Viimeksi muokattu {datetime.datetime.now():%Y-%m-%d %H:%M}, Juha Nurmonen')"
   ]
  }
 ],
 "metadata": {
  "kernelspec": {
   "display_name": "Python 3 (ipykernel)",
   "language": "python",
   "name": "python3"
  },
  "language_info": {
   "codemirror_mode": {
    "name": "ipython",
    "version": 3
   },
   "file_extension": ".py",
   "mimetype": "text/x-python",
   "name": "python",
   "nbconvert_exporter": "python",
   "pygments_lexer": "ipython3",
   "version": "3.10.13"
  }
 },
 "nbformat": 4,
 "nbformat_minor": 5
}
