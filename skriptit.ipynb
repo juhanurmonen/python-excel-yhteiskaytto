{
 "cells": [
  {
   "cell_type": "markdown",
   "id": "f39811e4",
   "metadata": {},
   "source": [
    "# Skriptit"
   ]
  },
  {
   "cell_type": "markdown",
   "id": "8f60f2f5",
   "metadata": {},
   "source": [
    "Python skripti on Pythonilla kirjoitettu ohjelma, joka on tallennettu .py-muodossa. Usein Python-ohjelmat tallennetaan .py-muodossa (poikkeuksena Jupyter-muistiot)."
   ]
  },
  {
   "cell_type": "markdown",
   "id": "514dd851",
   "metadata": {},
   "source": [
    "Kun skripti kirjoitetaan Jupyter notebookilla, niin kaikki komennot kirjoitetaan samaan soluun ja viedään .py-muotoon valitsemalla **File – Save and Export Notebook as – Executable Script**. Skriptejä on kuitenkin kätevämpää kirjoittaa ja testata ohjelmalla *Visual Studio Code*. "
   ]
  },
  {
   "cell_type": "markdown",
   "id": "45d06bf2",
   "metadata": {},
   "source": [
    "Python skripti voidaan käynnistää suoraan komentoriviltä. Jos on asentanut materiaalipaketin (tässä pyex-kansio) suoraan kotikansion alle, niin voi ensin siirtyä pyex-kansioon komennolla **cd pyex**  ja käynnistää esimerkiksi co2.py-skriptin komentorivin komennolla **python co2.py**. Skripti hakee ilmakehän kuukausittaiset hiilidioksidipitoisuudet Global Monitoring laboratoryn sivuilta, esittää ne viivakaaviona ja ennustaa hiilidioksidipitoisuudet 36 kuukautta eteenpäin."
   ]
  },
  {
   "cell_type": "code",
   "execution_count": null,
   "id": "5ea964e0",
   "metadata": {},
   "outputs": [],
   "source": [
    "### Skriptin co2.py koodi\n",
    "\n",
    "# Tuoreimman datan nouto ja siivous\n",
    "# Ennuste 36 kuukautta eteenpäin\n",
    "# Grafiikka, jossa aikasarja ja liukuva 12 kuukauden keskiarvo\n",
    "# Grafiikka, jossa ennuste 36 kuukautta eteenpäin\n",
    "# Data, ennusteet ja grafiikat Exceliin\n",
    "\n",
    "import pandas as pd\n",
    "import matplotlib.pyplot as plt\n",
    "import seaborn as sns\n",
    "import xlwings as xw\n",
    "from statsmodels.tsa.api import ExponentialSmoothing\n",
    "import warnings\n",
    "warnings.filterwarnings('ignore')\n",
    "sns.set_style('whitegrid')\n",
    "\n",
    "# Datan nouto ja siivous\n",
    "df = pd.read_csv('https://www.esrl.noaa.gov/gmd/webdata/ccgg/trends/co2/co2_mm_mlo.txt',\\\n",
    "sep='\\s+', skiprows=58, usecols=[0, 1, 3], names=['year', 'month', 'average'])\n",
    "df.index = pd.to_datetime(df['year'].astype(str) + df['month'].astype(str), format='%Y%m')\n",
    "df = df.drop(['year', 'month'], axis=1)\n",
    "\n",
    "# Ennustemalli kolminkertaista eksponentiaalista tasoitusta käyttäen\n",
    "malli = ExponentialSmoothing(df['average'], trend='add', seasonal='mul', seasonal_periods=12, freq='MS').fit()\n",
    "\n",
    "# Ennusteet 36 kuukautta eteenpäin\n",
    "next_date = df.index.to_series().iloc[-1]\n",
    "if next_date.month == 12:\n",
    "    index = pd.date_range(f'{next_date.year}-{1}-{next_date.day}', periods=36, freq='MS')\n",
    "else:\n",
    "    index = pd.date_range(f'{next_date.year}-{next_date.month+1}-{next_date.day}', periods=36, freq='MS')\n",
    "ennusteet = malli.forecast(36)\n",
    "df_ennuste = pd.DataFrame(data=ennusteet, index=index, columns=['Ennuste'])\n",
    "\n",
    "# Grafiikka\n",
    "fig, ax = plt.subplots(nrows=2, ncols=1, figsize=(8, 8), tight_layout=True)\n",
    "df.plot(ax=ax[0], title='Hiilidioksidipitoisuudet ja 12 kuukauden liukuva keskiarvo', legend=False)\n",
    "df.rolling(12).mean().plot(ax=ax[0], legend=False)\n",
    "df['2000':]['average'].plot(ax=ax[1], title = 'Ennuste 3 vuotta eteenpäin')\n",
    "df_ennuste['Ennuste'].plot(ax=ax[1])\n",
    "\n",
    "# Excel-työkirjan alustus\n",
    "app = xw.App()\n",
    "wb = app.books[0]\n",
    "sht = wb.sheets[0]\n",
    "sht.name = 'co2'\n",
    "\n",
    "# Data ja ennusteet Exceliin\n",
    "xw.Range('A1:H1').add_hyperlink(address='https://www.esrl.noaa.gov/gmd/webdata/ccgg/trends/co2/co2_mm_mlo.txt', \\\n",
    "    text_to_display='Lähde: https://www.esrl.noaa.gov/gmd/webdata/ccgg/trends/co2/co2_mm_mlo.txt')\n",
    "xw.Range('A3').value = df\n",
    "xw.Range('B3').value = 'Monthly average ppm'\n",
    "xw.Range('D43').value = df_ennuste\n",
    "\n",
    "# Grafiikka Exceliin\n",
    "sht.pictures.add(fig, anchor=xw.Range('D3'))"
   ]
  },
  {
   "cell_type": "markdown",
   "id": "3201c127",
   "metadata": {},
   "source": [
    "Skripti voi ottaa vastaan myös parametreja. Materiaalipaketin skripti osake.py odottaa osakkeen Yahoo Finance -tunnusta. Sen voi antaa skriptiä kutsuttaessa, esimerkiksi **python osake.py NOKIA.HE**. Jos parametria ei anneta kutsussa, niin skripti osaa kysyä sitä. Tutustu skriptiin: tunnistatko sieltä komennot, jotka liittyvät parametrin lukemiseen ja kysymiseen?"
   ]
  },
  {
   "cell_type": "code",
   "execution_count": null,
   "id": "931b96a5",
   "metadata": {},
   "outputs": [],
   "source": [
    "### Skriptin osake.py koodi\n",
    "\n",
    "import pandas as pd\n",
    "import matplotlib.pyplot as plt\n",
    "import seaborn as sns\n",
    "import xlwings as xw\n",
    "import yfinance as yf\n",
    "import sys\n",
    "sns.set_style('whitegrid')\n",
    "\n",
    "if (len(sys.argv) > 1):\n",
    "    x = sys.argv[1]\n",
    "else:\n",
    "    x = input('Anna osakkeen Yahoo Finance tunnus: ')\n",
    "\n",
    "try:\n",
    "    stock = yf.download(x, start='2023-1-1')\n",
    "except:\n",
    "    print('Tunnuksella ei löytynyt tietoja')\n",
    "    exit()\n",
    "\n",
    "omxh25 = yf.download('^OMXH25', start='2023-1-1')\n",
    "vertailu = pd.concat([stock['Close'].pct_change(), omxh25['Close'].pct_change()], axis=1)\n",
    "vertailu.columns = [x, 'OMXH25']\n",
    "fig = plt.figure()\n",
    "plt.scatter(x=vertailu['OMXH25'], y=vertailu[x])\n",
    "plt.xlabel('OMXH25 päivämuutos')\n",
    "plt.ylabel(f'{x} päivämuutos')\n",
    "\n",
    "app = xw.App(visible=False)\n",
    "wb = xw.books.active\n",
    "ws1 = wb.sheets[0]\n",
    "ws1.name = x\n",
    "ws2 = wb.sheets.add(name='omxh25')\n",
    "ws3 = wb.sheets.add(name='vertailu')\n",
    "ws1.range('A1').value = stock\n",
    "ws2.range('A1').value = omxh25\n",
    "ws3.range('A1').value = vertailu\n",
    "ws3.pictures.add(fig, anchor=xw.Range('E1'))\n",
    "app.visible = True"
   ]
  },
  {
   "cell_type": "markdown",
   "id": "34d99bca",
   "metadata": {},
   "source": [
    "Materiaalipaketin skripti **pika.py** laskee annetulle datalle frekvenssitaulukot, ristiintaulukoinnit ja tilastolliset tunnusluvut. Testaa skriptiä esimerkiksi titanic-datalle: **python pika.py data/titanic.xlsx**."
   ]
  },
  {
   "cell_type": "markdown",
   "id": "e6933955",
   "metadata": {},
   "source": [
    "Materiaalipaketin skripti **bollinger.py** hakee annetun osakkeen kurssihistorian ja piirtää sen Bollingerin nauhat. Bollingerin nauhat ovat arvopaperimarkkinoilla käytetyn teknisen analyysin mittareita, joiden avulla pyritään tunnistamaan yliostettuja ja ylimyytyjä tilanteita sekä markkinaheilunnan muutoksia. Lisätietoa Bollingerin nauhoista löytyy esimerkiksi artikkeleista https://www.investopedia.com/terms/b/bollingerbands.asp (Investopedia) ja https://www.sijoittaja.fi/276210/tekninen-analyysi/ (Sijoittaja).\n",
    "\n",
    "Kokeile esimerkiksi **python bollinger.py TELIA1.HE**."
   ]
  },
  {
   "cell_type": "code",
   "execution_count": null,
   "id": "437409fa-0a9f-4de0-95c2-a733cb9ba5fb",
   "metadata": {},
   "outputs": [],
   "source": [
    "### Skriptin bollinger.py koodi\n",
    "\n",
    "import pandas as pd\n",
    "import matplotlib.pyplot as plt\n",
    "import xlwings as xw\n",
    "import yfinance as yf\n",
    "import sys\n",
    "\n",
    "def bollinger(stock, span=20):\n",
    "    \n",
    "    '''Piirtää Bollingerin nauhat'''\n",
    "    \n",
    "    stock['MA'] = stock['Close'].rolling(span).mean()\n",
    "    stock['STD'] = stock['Close'].rolling(span).std(ddof = 0) \n",
    "    stock['Upper'] = stock['MA'] + (stock['STD'] * 2)\n",
    "    stock['Lower'] = stock['MA'] - (stock['STD'] * 2)\n",
    "\n",
    "    fig, ax = plt.subplots()\n",
    "    stock['Close'].plot(label='Close', color='black', figsize=(10, 6))\n",
    "    stock['Upper'].plot(label='Upper', linestyle='--', linewidth=1, color='red')\n",
    "    stock['MA'].plot(label='Middle', linestyle='--', linewidth=1.2, color='grey')\n",
    "    stock['Lower'].plot(label='Lower', linestyle='--', linewidth=1, color='red')\n",
    "    plt.gca().fill_between(stock.index, stock['Lower'], stock['Upper'], facecolor='yellow', alpha=0.1)\n",
    "    plt.legend()\n",
    "    plt.title('BOLLINGER BANDS')\n",
    "\n",
    "    return stock, fig\n",
    "\n",
    "\n",
    "if (len(sys.argv) > 1):\n",
    "    tunnus = sys.argv[1]\n",
    "else:\n",
    "    tunnus = input('Anna osakkeen Yahoo Finance tunnus: ')\n",
    "\n",
    "try:\n",
    "    stock = yf.download(tunnus, start='2022-1-1')\n",
    "except:\n",
    "    print('Tunnuksella ei löytynyt tietoja')\n",
    "    exit()\n",
    "    \n",
    "stock, fig = bollinger(stock)\n",
    "app = xw.App()\n",
    "wb = app.books[0]\n",
    "ws = wb.sheets[0]\n",
    "ws.name = 'bollinger'\n",
    "xw.Range('A1').value = tunnus\n",
    "xw.Range('A30').value = stock\n",
    "ws.pictures.add(fig, anchor = xw.Range('A3'))\n",
    "wb.activate()\n"
   ]
  },
  {
   "cell_type": "markdown",
   "id": "ec8be1b4-a1b8-4c5f-a7ac-448908890de4",
   "metadata": {},
   "source": [
    "Materiaalipaketin skripti **rsi.py** hakee annetun osakkeen kurssihistorian ja piirtää RSI:n. Relative Strength Index eli suhteellinen voimaindeksi on myös eräs monista arvopaperimarkkinoilla käytetyn teknisen analyysin mittari. Se mittaa osakkeen tai muun arvopaperin hinnan muutoksen suuntaa ja voimakkuutta viimeaikaisiin hintoihin pohjautuen ja pyrkii arvioimaan, kuinka yli- tai aliostettuja kyseiset arvopaperit ovat. Lisätietoa RSI:stä esimerkiksi https://www.investopedia.com/terms/r/rsi.asp (Investopedia) ja https://www.sijoittaja.fi/365376/teknisen-analyysin-indikaattorit-relative-strenght-index/ ja https://www.sijoittaja.fi/276210/tekninen-analyysi/ (Sijoittaja).\n",
    "\n",
    "Kokeile esimerkiksi **python rsi.py ELISA.HE**."
   ]
  },
  {
   "cell_type": "code",
   "execution_count": null,
   "id": "60a24b9d-9945-4902-a36f-161095401cc2",
   "metadata": {},
   "outputs": [],
   "source": [
    "### Skriptin rsi.py koodi\n",
    "\n",
    "import pandas as pd\n",
    "import matplotlib.pyplot as plt\n",
    "import seaborn as sns\n",
    "import xlwings as xw\n",
    "import yfinance as yf\n",
    "import sys\n",
    "sns.set_style('whitegrid')\n",
    "\n",
    "\n",
    "def rsi(stock, span=14):\n",
    "    \n",
    "    muutos = stock['Close'].diff()\n",
    "    \n",
    "    u = muutos.clip(lower = 0) # positiiviset muutokset\n",
    "    d = muutos.clip(upper = 0).abs() # negatiiviset muutokset\n",
    "    \n",
    "    avgu = u.rolling(span).mean() # positiivisten muutosten liukuva keskiarvo\n",
    "    avgd = d.rolling(span).mean() # negatiivisten muutosten liukuva keskiarvo\n",
    "\n",
    "    rs = avgu/avgd # suhteellinen voima (relative strength)\n",
    "\n",
    "    stock['RSI'] = (100 - (100/(1 + rs))) # suhteellinen voimaindeksi (RSI)\n",
    "\n",
    "    # Kaavio\n",
    "    fig, ax = plt.subplots()\n",
    "    stock['RSI'].plot(figsize = (10, 6), label = 'yksinkertainen liukuva', legend = True)\n",
    "    plt.ylim(0, 100)\n",
    "    plt.axhline(30, color = 'r', linestyle = '--')\n",
    "    plt.axhline(70, color = 'r', linestyle = '--')\n",
    "    plt.ylabel('RSI')\n",
    "    \n",
    "    return stock, fig\n",
    "\n",
    "if (len(sys.argv) > 1):\n",
    "    tunnus = sys.argv[1]\n",
    "else:\n",
    "    tunnus = input('Anna osakkeen Yahoo Finance tunnus: ')\n",
    "\n",
    "try:\n",
    "    data = yf.download(tunnus, start = '2022-1-1')\n",
    "except:\n",
    "    print('Tunnuksella ei löytynyt tietoja')\n",
    "    exit()\n",
    "    \n",
    "stock, fig = rsi(data)\n",
    "\n",
    "wb = xw.Book()\n",
    "ws = wb.sheets[0]\n",
    "ws.name = 'rsi'\n",
    "xw.Range('A1').value = tunnus\n",
    "xw.Range('A30').value = stock\n",
    "ws.pictures.add(fig, anchor = xw.Range('A3'))\n",
    "wb.activate()\n"
   ]
  },
  {
   "cell_type": "markdown",
   "id": "93d9055f-01f5-466f-9a8d-04d82eb60063",
   "metadata": {},
   "source": [
    "<u>Lähde ja lisämateriaalia</u>: \n",
    "Aki Taanila: Data-analytiikka Pythonilla, https://tilastoapu.wordpress.com/python/."
   ]
  },
  {
   "cell_type": "code",
   "execution_count": 1,
   "id": "a09077d6",
   "metadata": {},
   "outputs": [
    {
     "name": "stdout",
     "output_type": "stream",
     "text": [
      "Last modified 2024-04-06 15:45 by Juha Nurmonen\n"
     ]
    }
   ],
   "source": [
    "import datetime\n",
    "print(f'Last modified {datetime.datetime.now():%Y-%m-%d %H:%M} by Juha Nurmonen')"
   ]
  }
 ],
 "metadata": {
  "kernelspec": {
   "display_name": "Python 3 (ipykernel)",
   "language": "python",
   "name": "python3"
  },
  "language_info": {
   "codemirror_mode": {
    "name": "ipython",
    "version": 3
   },
   "file_extension": ".py",
   "mimetype": "text/x-python",
   "name": "python",
   "nbconvert_exporter": "python",
   "pygments_lexer": "ipython3",
   "version": "3.11.5"
  }
 },
 "nbformat": 4,
 "nbformat_minor": 5
}
